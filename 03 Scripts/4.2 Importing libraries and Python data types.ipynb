{
 "cells": [
  {
   "cell_type": "markdown",
   "id": "b51ba1c4",
   "metadata": {},
   "source": [
    "# 01. Importing libraries"
   ]
  },
  {
   "cell_type": "code",
   "execution_count": 1,
   "id": "aefe0c9b",
   "metadata": {},
   "outputs": [],
   "source": [
    "# Import libraries\n",
    "import pandas as pd\n",
    "import numpy as np\n",
    "import os"
   ]
  },
  {
   "cell_type": "markdown",
   "id": "e20295a7",
   "metadata": {},
   "source": [
    "# 02. Data Type"
   ]
  },
  {
   "cell_type": "code",
   "execution_count": 10,
   "id": "7fcfffc7",
   "metadata": {},
   "outputs": [],
   "source": [
    "#Code 3 different ways of reaching a result of 100\n",
    "x = 20\n",
    "y = 80"
   ]
  },
  {
   "cell_type": "code",
   "execution_count": 11,
   "id": "05e2a1f3",
   "metadata": {},
   "outputs": [
    {
     "data": {
      "text/plain": [
       "100"
      ]
     },
     "execution_count": 11,
     "metadata": {},
     "output_type": "execute_result"
    }
   ],
   "source": [
    "x + y"
   ]
  },
  {
   "cell_type": "code",
   "execution_count": 12,
   "id": "3bf3541d",
   "metadata": {},
   "outputs": [
    {
     "data": {
      "text/plain": [
       "100"
      ]
     },
     "execution_count": 12,
     "metadata": {},
     "output_type": "execute_result"
    }
   ],
   "source": [
    "x * 5"
   ]
  },
  {
   "cell_type": "code",
   "execution_count": 13,
   "id": "fa2c73fa",
   "metadata": {},
   "outputs": [
    {
     "data": {
      "text/plain": [
       "100"
      ]
     },
     "execution_count": 13,
     "metadata": {},
     "output_type": "execute_result"
    }
   ],
   "source": [
    "y*2 - 60"
   ]
  },
  {
   "cell_type": "code",
   "execution_count": 14,
   "id": "31d0c6b7",
   "metadata": {},
   "outputs": [],
   "source": [
    "#Code 2 floating-point variables and divide them by each other\n",
    "a = 6.875\n",
    "b = 3.564"
   ]
  },
  {
   "cell_type": "code",
   "execution_count": 15,
   "id": "2b239bb8",
   "metadata": {},
   "outputs": [
    {
     "data": {
      "text/plain": [
       "1.9290123456790123"
      ]
     },
     "execution_count": 15,
     "metadata": {},
     "output_type": "execute_result"
    }
   ],
   "source": [
    "a/b"
   ]
  },
  {
   "cell_type": "code",
   "execution_count": 16,
   "id": "96e7a496",
   "metadata": {},
   "outputs": [],
   "source": [
    "#Construct a short word made of separate strings\n",
    "c = 'Disney'\n",
    "d = 'land'"
   ]
  },
  {
   "cell_type": "code",
   "execution_count": 17,
   "id": "e91aaa09",
   "metadata": {},
   "outputs": [
    {
     "data": {
      "text/plain": [
       "'Disneyland'"
      ]
     },
     "execution_count": 17,
     "metadata": {},
     "output_type": "execute_result"
    }
   ],
   "source": [
    "c + d"
   ]
  },
  {
   "cell_type": "code",
   "execution_count": 26,
   "id": "63b635f5",
   "metadata": {},
   "outputs": [],
   "source": [
    "#Construct 2 short sentences made of separate strings\n",
    "e = 'Good'\n",
    "f = ' morning!'\n",
    "g = 'Can I '\n",
    "h = 'order '\n",
    "i = 'a cup of capuchino'"
   ]
  },
  {
   "cell_type": "code",
   "execution_count": 27,
   "id": "537aea89",
   "metadata": {},
   "outputs": [
    {
     "data": {
      "text/plain": [
       "'Good morning!Can I order a cup of capuchino'"
      ]
     },
     "execution_count": 27,
     "metadata": {},
     "output_type": "execute_result"
    }
   ],
   "source": [
    "e + f + g + h + i"
   ]
  },
  {
   "cell_type": "code",
   "execution_count": 28,
   "id": "0b5148c8",
   "metadata": {},
   "outputs": [],
   "source": [
    "#Bonus task\n",
    "a = 'cat'"
   ]
  },
  {
   "cell_type": "code",
   "execution_count": 29,
   "id": "cde5534f",
   "metadata": {},
   "outputs": [
    {
     "data": {
      "text/plain": [
       "'catcatcatcatcatcatcatcatcatcatcatcatcatcatcatcatcatcatcatcatcatcatcatcatcatcatcatcatcatcatcatcatcatcatcatcatcatcatcatcatcatcatcatcatcatcatcatcatcatcatcatcatcatcatcatcatcatcatcatcatcatcatcatcatcatcatcatcatcatcatcatcatcatcatcatcatcatcatcatcatcatcatcatcatcatcatcatcatcatcatcatcatcatcatcatcatcatcatcatcat'"
      ]
     },
     "execution_count": 29,
     "metadata": {},
     "output_type": "execute_result"
    }
   ],
   "source": [
    "a*100"
   ]
  }
 ],
 "metadata": {
  "kernelspec": {
   "display_name": "Python 3 (ipykernel)",
   "language": "python",
   "name": "python3"
  },
  "language_info": {
   "codemirror_mode": {
    "name": "ipython",
    "version": 3
   },
   "file_extension": ".py",
   "mimetype": "text/x-python",
   "name": "python",
   "nbconvert_exporter": "python",
   "pygments_lexer": "ipython3",
   "version": "3.11.5"
  }
 },
 "nbformat": 4,
 "nbformat_minor": 5
}
