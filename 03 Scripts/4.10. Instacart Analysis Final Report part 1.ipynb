{
 "cells": [
  {
   "cell_type": "markdown",
   "id": "748b9de6",
   "metadata": {},
   "source": [
    "# 4.10 Instacart Analysis Final Report Part 1"
   ]
  },
  {
   "cell_type": "markdown",
   "id": "6fc94066",
   "metadata": {},
   "source": [
    "## This script contain following points:"
   ]
  },
  {
   "cell_type": "markdown",
   "id": "58611a3b",
   "metadata": {},
   "source": [
    "### 01. Consider any security implications that might exist for this new data"
   ]
  },
  {
   "cell_type": "markdown",
   "id": "3c219fe8",
   "metadata": {},
   "source": [
    "### 02. Customer behavior in different geographic areas"
   ]
  },
  {
   "cell_type": "markdown",
   "id": "0c0413c2",
   "metadata": {},
   "source": [
    "### 03. Create an exclusion flag for low-activity customers and exclude them from the data"
   ]
  },
  {
   "cell_type": "markdown",
   "id": "0ebc596f",
   "metadata": {},
   "source": [
    "### 04. Export new dataframes as pickle files"
   ]
  },
  {
   "cell_type": "markdown",
   "id": "5e5a1566",
   "metadata": {},
   "source": [
    "## 01. Import libraries"
   ]
  },
  {
   "cell_type": "code",
   "execution_count": 2,
   "id": "5b7b06c0",
   "metadata": {},
   "outputs": [],
   "source": [
    "# Import libraries\n",
    "import pandas as pd\n",
    "import numpy as np\n",
    "import os\n",
    "import matplotlib.pyplot as plt\n",
    "import seaborn as sns\n",
    "import scipy"
   ]
  },
  {
   "cell_type": "markdown",
   "id": "c97c9b44",
   "metadata": {},
   "source": [
    "## 02. Import dataset"
   ]
  },
  {
   "cell_type": "code",
   "execution_count": 3,
   "id": "001b1f51",
   "metadata": {},
   "outputs": [],
   "source": [
    "# Create path\n",
    "path = r'C:\\Users\\Quinn\\OneDrive\\Documents\\CF - Data Analyst\\Data Immersion\\Instacart Basket Analysis'"
   ]
  },
  {
   "cell_type": "code",
   "execution_count": 4,
   "id": "3ee45784",
   "metadata": {},
   "outputs": [],
   "source": [
    "# Import prepared dataset\n",
    "df = pd.read_pickle(os.path.join(path, '02 Data', 'Prepared Data', 'orders_products_all.pkl'))"
   ]
  },
  {
   "cell_type": "code",
   "execution_count": 5,
   "id": "c01ff0e7",
   "metadata": {},
   "outputs": [],
   "source": [
    "# Import department dataset\n",
    "department = pd.read_csv(os.path.join(path, '02 Data', 'Prepared Data', 'departments_wrangled.csv'))"
   ]
  },
  {
   "cell_type": "code",
   "execution_count": 6,
   "id": "5a7371fa",
   "metadata": {},
   "outputs": [
    {
     "data": {
      "text/html": [
       "<div>\n",
       "<style scoped>\n",
       "    .dataframe tbody tr th:only-of-type {\n",
       "        vertical-align: middle;\n",
       "    }\n",
       "\n",
       "    .dataframe tbody tr th {\n",
       "        vertical-align: top;\n",
       "    }\n",
       "\n",
       "    .dataframe thead th {\n",
       "        text-align: right;\n",
       "    }\n",
       "</style>\n",
       "<table border=\"1\" class=\"dataframe\">\n",
       "  <thead>\n",
       "    <tr style=\"text-align: right;\">\n",
       "      <th></th>\n",
       "      <th>order_id</th>\n",
       "      <th>user_id</th>\n",
       "      <th>order_number</th>\n",
       "      <th>orders_day_of_week</th>\n",
       "      <th>order_hour_of_day</th>\n",
       "      <th>days_since_last_order</th>\n",
       "      <th>first_order</th>\n",
       "      <th>product_id</th>\n",
       "      <th>add_to_cart_order</th>\n",
       "      <th>reordered</th>\n",
       "      <th>...</th>\n",
       "      <th>Customer_frequency</th>\n",
       "      <th>frequency_flag</th>\n",
       "      <th>Gender</th>\n",
       "      <th>STATE</th>\n",
       "      <th>Age</th>\n",
       "      <th>date_joined</th>\n",
       "      <th>dependants</th>\n",
       "      <th>family_status</th>\n",
       "      <th>income</th>\n",
       "      <th>_merge</th>\n",
       "    </tr>\n",
       "  </thead>\n",
       "  <tbody>\n",
       "    <tr>\n",
       "      <th>0</th>\n",
       "      <td>2539329</td>\n",
       "      <td>1</td>\n",
       "      <td>1</td>\n",
       "      <td>2</td>\n",
       "      <td>8</td>\n",
       "      <td>NaN</td>\n",
       "      <td>First Order</td>\n",
       "      <td>196</td>\n",
       "      <td>1</td>\n",
       "      <td>0</td>\n",
       "      <td>...</td>\n",
       "      <td>20.5</td>\n",
       "      <td>Non_frequent_customer</td>\n",
       "      <td>Female</td>\n",
       "      <td>Alabama</td>\n",
       "      <td>31</td>\n",
       "      <td>2019-02-17</td>\n",
       "      <td>3</td>\n",
       "      <td>married</td>\n",
       "      <td>40423</td>\n",
       "      <td>both</td>\n",
       "    </tr>\n",
       "    <tr>\n",
       "      <th>1</th>\n",
       "      <td>2398795</td>\n",
       "      <td>1</td>\n",
       "      <td>2</td>\n",
       "      <td>3</td>\n",
       "      <td>7</td>\n",
       "      <td>15.0</td>\n",
       "      <td>Repeat Customer</td>\n",
       "      <td>196</td>\n",
       "      <td>1</td>\n",
       "      <td>1</td>\n",
       "      <td>...</td>\n",
       "      <td>20.5</td>\n",
       "      <td>Non_frequent_customer</td>\n",
       "      <td>Female</td>\n",
       "      <td>Alabama</td>\n",
       "      <td>31</td>\n",
       "      <td>2019-02-17</td>\n",
       "      <td>3</td>\n",
       "      <td>married</td>\n",
       "      <td>40423</td>\n",
       "      <td>both</td>\n",
       "    </tr>\n",
       "    <tr>\n",
       "      <th>2</th>\n",
       "      <td>473747</td>\n",
       "      <td>1</td>\n",
       "      <td>3</td>\n",
       "      <td>3</td>\n",
       "      <td>12</td>\n",
       "      <td>21.0</td>\n",
       "      <td>Repeat Customer</td>\n",
       "      <td>196</td>\n",
       "      <td>1</td>\n",
       "      <td>1</td>\n",
       "      <td>...</td>\n",
       "      <td>20.5</td>\n",
       "      <td>Non_frequent_customer</td>\n",
       "      <td>Female</td>\n",
       "      <td>Alabama</td>\n",
       "      <td>31</td>\n",
       "      <td>2019-02-17</td>\n",
       "      <td>3</td>\n",
       "      <td>married</td>\n",
       "      <td>40423</td>\n",
       "      <td>both</td>\n",
       "    </tr>\n",
       "    <tr>\n",
       "      <th>3</th>\n",
       "      <td>2254736</td>\n",
       "      <td>1</td>\n",
       "      <td>4</td>\n",
       "      <td>4</td>\n",
       "      <td>7</td>\n",
       "      <td>29.0</td>\n",
       "      <td>Repeat Customer</td>\n",
       "      <td>196</td>\n",
       "      <td>1</td>\n",
       "      <td>1</td>\n",
       "      <td>...</td>\n",
       "      <td>20.5</td>\n",
       "      <td>Non_frequent_customer</td>\n",
       "      <td>Female</td>\n",
       "      <td>Alabama</td>\n",
       "      <td>31</td>\n",
       "      <td>2019-02-17</td>\n",
       "      <td>3</td>\n",
       "      <td>married</td>\n",
       "      <td>40423</td>\n",
       "      <td>both</td>\n",
       "    </tr>\n",
       "    <tr>\n",
       "      <th>4</th>\n",
       "      <td>431534</td>\n",
       "      <td>1</td>\n",
       "      <td>5</td>\n",
       "      <td>4</td>\n",
       "      <td>15</td>\n",
       "      <td>28.0</td>\n",
       "      <td>Repeat Customer</td>\n",
       "      <td>196</td>\n",
       "      <td>1</td>\n",
       "      <td>1</td>\n",
       "      <td>...</td>\n",
       "      <td>20.5</td>\n",
       "      <td>Non_frequent_customer</td>\n",
       "      <td>Female</td>\n",
       "      <td>Alabama</td>\n",
       "      <td>31</td>\n",
       "      <td>2019-02-17</td>\n",
       "      <td>3</td>\n",
       "      <td>married</td>\n",
       "      <td>40423</td>\n",
       "      <td>both</td>\n",
       "    </tr>\n",
       "  </tbody>\n",
       "</table>\n",
       "<p>5 rows × 32 columns</p>\n",
       "</div>"
      ],
      "text/plain": [
       "   order_id user_id  order_number  orders_day_of_week  order_hour_of_day  \\\n",
       "0   2539329       1             1                   2                  8   \n",
       "1   2398795       1             2                   3                  7   \n",
       "2    473747       1             3                   3                 12   \n",
       "3   2254736       1             4                   4                  7   \n",
       "4    431534       1             5                   4                 15   \n",
       "\n",
       "   days_since_last_order      first_order  product_id  add_to_cart_order  \\\n",
       "0                    NaN      First Order         196                  1   \n",
       "1                   15.0  Repeat Customer         196                  1   \n",
       "2                   21.0  Repeat Customer         196                  1   \n",
       "3                   29.0  Repeat Customer         196                  1   \n",
       "4                   28.0  Repeat Customer         196                  1   \n",
       "\n",
       "   reordered  ... Customer_frequency         frequency_flag  Gender    STATE  \\\n",
       "0          0  ...               20.5  Non_frequent_customer  Female  Alabama   \n",
       "1          1  ...               20.5  Non_frequent_customer  Female  Alabama   \n",
       "2          1  ...               20.5  Non_frequent_customer  Female  Alabama   \n",
       "3          1  ...               20.5  Non_frequent_customer  Female  Alabama   \n",
       "4          1  ...               20.5  Non_frequent_customer  Female  Alabama   \n",
       "\n",
       "  Age date_joined dependants  family_status  income _merge  \n",
       "0  31  2019-02-17          3        married   40423   both  \n",
       "1  31  2019-02-17          3        married   40423   both  \n",
       "2  31  2019-02-17          3        married   40423   both  \n",
       "3  31  2019-02-17          3        married   40423   both  \n",
       "4  31  2019-02-17          3        married   40423   both  \n",
       "\n",
       "[5 rows x 32 columns]"
      ]
     },
     "execution_count": 6,
     "metadata": {},
     "output_type": "execute_result"
    }
   ],
   "source": [
    "df.head()"
   ]
  },
  {
   "cell_type": "code",
   "execution_count": 7,
   "id": "75cef809",
   "metadata": {
    "scrolled": true
   },
   "outputs": [
    {
     "data": {
      "text/plain": [
       "Index(['order_id', 'user_id', 'order_number', 'orders_day_of_week',\n",
       "       'order_hour_of_day', 'days_since_last_order', 'first_order',\n",
       "       'product_id', 'add_to_cart_order', 'reordered', 'product_name',\n",
       "       'aisle_id', 'department_id', 'prices', 'price_range_loc', 'busiest day',\n",
       "       'busiest days', 'busiest_period_of_day', 'max_order', 'loyalty_flag',\n",
       "       'avg_price', 'spender_flag', 'Customer_frequency', 'frequency_flag',\n",
       "       'Gender', 'STATE', 'Age', 'date_joined', 'dependants', ' family_status',\n",
       "       'income', '_merge'],\n",
       "      dtype='object')"
      ]
     },
     "execution_count": 7,
     "metadata": {},
     "output_type": "execute_result"
    }
   ],
   "source": [
    "df.columns"
   ]
  },
  {
   "cell_type": "code",
   "execution_count": 8,
   "id": "e2f5d7c2",
   "metadata": {},
   "outputs": [
    {
     "data": {
      "text/plain": [
       "(32404854, 32)"
      ]
     },
     "execution_count": 8,
     "metadata": {},
     "output_type": "execute_result"
    }
   ],
   "source": [
    "df.shape"
   ]
  },
  {
   "cell_type": "markdown",
   "id": "7842e6ea",
   "metadata": {},
   "source": [
    "## 03. Consider any security implications that might exist for this new data"
   ]
  },
  {
   "cell_type": "markdown",
   "id": "c230c535",
   "metadata": {},
   "source": [
    "#### The original PII data, such as first name and last name, has been dropped from this dataset to ensure the privacy and ethics of the data. "
   ]
  },
  {
   "cell_type": "markdown",
   "id": "55dd9b5d",
   "metadata": {},
   "source": [
    "#### Other information such as income, age, state, gender, dependants, and family status has been fabricated for this course."
   ]
  },
  {
   "cell_type": "markdown",
   "id": "4993fcdf",
   "metadata": {},
   "source": [
    "## 04. Customer behavior in different geographic areas"
   ]
  },
  {
   "cell_type": "markdown",
   "id": "a8f72c9e",
   "metadata": {},
   "source": [
    "### 4.1. Creat a region flag column"
   ]
  },
  {
   "cell_type": "code",
   "execution_count": 9,
   "id": "0a47ed56",
   "metadata": {},
   "outputs": [],
   "source": [
    "# Identify Northeast region\n",
    "northeast = ['Maine','New Hampshire','Vermont','Massachusetts','Rhode Island','Connecticut','New York','Pennsylvania','New Jersey']"
   ]
  },
  {
   "cell_type": "code",
   "execution_count": 10,
   "id": "abda094b",
   "metadata": {},
   "outputs": [],
   "source": [
    "# Identify Midwest region\n",
    "midwest = ['Wisconsin','Michigan','Illinois','Indiana','Ohio','North Dakota','South Dakota','Nebraska','Kansas','Minnesota','Iowa','Missouri']"
   ]
  },
  {
   "cell_type": "code",
   "execution_count": 11,
   "id": "87b59d8e",
   "metadata": {},
   "outputs": [],
   "source": [
    "# Identify South region\n",
    "south = ['Delaware','Maryland','District of Columbia','Virginia','West Virginia','North Carolina','South Carolina','Georgia',\n",
    "'Florida','Kentucky','Tennessee','Mississippi','Alabama','Oklahoma','Texas','Arkansas','Louisiana']"
   ]
  },
  {
   "cell_type": "code",
   "execution_count": 12,
   "id": "5e95a34c",
   "metadata": {},
   "outputs": [],
   "source": [
    "# Identify West region\n",
    "west = ['Idaho','Montana','Wyoming','Nevada','Utah','Colorado','Arizona','New Mexico','Alaska','Washington','Oregon','California','Hawaii']"
   ]
  },
  {
   "cell_type": "code",
   "execution_count": 13,
   "id": "9cf37a3a",
   "metadata": {},
   "outputs": [],
   "source": [
    "# Creat the Region flag\n",
    "df.loc[df['STATE'].isin(northeast), 'region'] = 'Northeast'"
   ]
  },
  {
   "cell_type": "code",
   "execution_count": 14,
   "id": "8118d3d7",
   "metadata": {},
   "outputs": [],
   "source": [
    "df.loc[df['STATE'].isin(midwest), 'region'] = 'Midwest'"
   ]
  },
  {
   "cell_type": "code",
   "execution_count": 15,
   "id": "f8434779",
   "metadata": {},
   "outputs": [],
   "source": [
    "df.loc[df['STATE'].isin(south), 'region'] = 'South'"
   ]
  },
  {
   "cell_type": "code",
   "execution_count": 16,
   "id": "9c032100",
   "metadata": {},
   "outputs": [],
   "source": [
    "df.loc[df['STATE'].isin(west), 'region'] = 'West'"
   ]
  },
  {
   "cell_type": "code",
   "execution_count": 17,
   "id": "c030893f",
   "metadata": {},
   "outputs": [
    {
     "data": {
      "text/plain": [
       "region\n",
       "South        10791880\n",
       "West          8292913\n",
       "Midwest       7597325\n",
       "Northeast     5722736\n",
       "Name: count, dtype: int64"
      ]
     },
     "execution_count": 17,
     "metadata": {},
     "output_type": "execute_result"
    }
   ],
   "source": [
    "# User count by region\n",
    "df['region'].value_counts(dropna = False)"
   ]
  },
  {
   "cell_type": "markdown",
   "id": "95b76384",
   "metadata": {},
   "source": [
    "#### The total count is 32,404,854, meaning all the rows are flagged."
   ]
  },
  {
   "cell_type": "markdown",
   "id": "cd2d0f03",
   "metadata": {},
   "source": [
    "### 4.2 Spending habits"
   ]
  },
  {
   "cell_type": "code",
   "execution_count": 18,
   "id": "405bf8a8",
   "metadata": {},
   "outputs": [],
   "source": [
    "# Low/high spender based on regions\n",
    "spender_region = pd.crosstab(df['region'], df['spender_flag'], dropna = False).sort_values(by = 'High spender', ascending = False)"
   ]
  },
  {
   "cell_type": "code",
   "execution_count": 19,
   "id": "93b974eb",
   "metadata": {},
   "outputs": [
    {
     "data": {
      "text/html": [
       "<div>\n",
       "<style scoped>\n",
       "    .dataframe tbody tr th:only-of-type {\n",
       "        vertical-align: middle;\n",
       "    }\n",
       "\n",
       "    .dataframe tbody tr th {\n",
       "        vertical-align: top;\n",
       "    }\n",
       "\n",
       "    .dataframe thead th {\n",
       "        text-align: right;\n",
       "    }\n",
       "</style>\n",
       "<table border=\"1\" class=\"dataframe\">\n",
       "  <thead>\n",
       "    <tr style=\"text-align: right;\">\n",
       "      <th>spender_flag</th>\n",
       "      <th>High spender</th>\n",
       "      <th>Low spender</th>\n",
       "    </tr>\n",
       "    <tr>\n",
       "      <th>region</th>\n",
       "      <th></th>\n",
       "      <th></th>\n",
       "    </tr>\n",
       "  </thead>\n",
       "  <tbody>\n",
       "    <tr>\n",
       "      <th>South</th>\n",
       "      <td>209691</td>\n",
       "      <td>10582189</td>\n",
       "    </tr>\n",
       "    <tr>\n",
       "      <th>West</th>\n",
       "      <td>160354</td>\n",
       "      <td>8132559</td>\n",
       "    </tr>\n",
       "    <tr>\n",
       "      <th>Midwest</th>\n",
       "      <td>155975</td>\n",
       "      <td>7441350</td>\n",
       "    </tr>\n",
       "    <tr>\n",
       "      <th>Northeast</th>\n",
       "      <td>108225</td>\n",
       "      <td>5614511</td>\n",
       "    </tr>\n",
       "  </tbody>\n",
       "</table>\n",
       "</div>"
      ],
      "text/plain": [
       "spender_flag  High spender  Low spender\n",
       "region                                 \n",
       "South               209691     10582189\n",
       "West                160354      8132559\n",
       "Midwest             155975      7441350\n",
       "Northeast           108225      5614511"
      ]
     },
     "execution_count": 19,
     "metadata": {},
     "output_type": "execute_result"
    }
   ],
   "source": [
    "spender_region"
   ]
  },
  {
   "cell_type": "code",
   "execution_count": 20,
   "id": "5dfe2a5e",
   "metadata": {},
   "outputs": [
    {
     "data": {
      "image/png": "[encoded data removed]",
      "text/plain": [
       "<Figure size 640x480 with 1 Axes>"
      ]
     },
     "metadata": {},
     "output_type": "display_data"
    }
   ],
   "source": [
    "# Visualize this information\n",
    "bar_spender_region = spender_region.plot.bar(color = ['#a1464b','#78964b'], rot = 0)\n",
    "plt.title('Spending Habit by Region')\n",
    "plt.xlabel('Region')\n",
    "plt.ylabel('Number of customer')\n",
    "plt.show()"
   ]
  },
  {
   "cell_type": "code",
   "execution_count": 21,
   "id": "bae69b85",
   "metadata": {},
   "outputs": [],
   "source": [
    "# Exporting chart\n",
    "bar_spender_region.figure.savefig(os.path.join(path, '04 Analysis','Visualizations', 'bar_spending_by_region.png'))"
   ]
  },
  {
   "cell_type": "code",
   "execution_count": 22,
   "id": "5cd0e79f",
   "metadata": {},
   "outputs": [],
   "source": [
    "# Price-range product by region\n",
    "price_region = pd.crosstab(df['region'], df['price_range_loc'], dropna = False).sort_values(by = 'High-range product', ascending = False)"
   ]
  },
  {
   "cell_type": "code",
   "execution_count": 23,
   "id": "5c08b6ce",
   "metadata": {},
   "outputs": [
    {
     "data": {
      "text/html": [
       "<div>\n",
       "<style scoped>\n",
       "    .dataframe tbody tr th:only-of-type {\n",
       "        vertical-align: middle;\n",
       "    }\n",
       "\n",
       "    .dataframe tbody tr th {\n",
       "        vertical-align: top;\n",
       "    }\n",
       "\n",
       "    .dataframe thead th {\n",
       "        text-align: right;\n",
       "    }\n",
       "</style>\n",
       "<table border=\"1\" class=\"dataframe\">\n",
       "  <thead>\n",
       "    <tr style=\"text-align: right;\">\n",
       "      <th>price_range_loc</th>\n",
       "      <th>High-range product</th>\n",
       "      <th>Low-range product</th>\n",
       "      <th>Mid-range product</th>\n",
       "    </tr>\n",
       "    <tr>\n",
       "      <th>region</th>\n",
       "      <th></th>\n",
       "      <th></th>\n",
       "      <th></th>\n",
       "    </tr>\n",
       "  </thead>\n",
       "  <tbody>\n",
       "    <tr>\n",
       "      <th>South</th>\n",
       "      <td>139390</td>\n",
       "      <td>3368336</td>\n",
       "      <td>7284154</td>\n",
       "    </tr>\n",
       "    <tr>\n",
       "      <th>West</th>\n",
       "      <td>107168</td>\n",
       "      <td>2592736</td>\n",
       "      <td>5593009</td>\n",
       "    </tr>\n",
       "    <tr>\n",
       "      <th>Midwest</th>\n",
       "      <td>97918</td>\n",
       "      <td>2372304</td>\n",
       "      <td>5127103</td>\n",
       "    </tr>\n",
       "    <tr>\n",
       "      <th>Northeast</th>\n",
       "      <td>73202</td>\n",
       "      <td>1792943</td>\n",
       "      <td>3856591</td>\n",
       "    </tr>\n",
       "  </tbody>\n",
       "</table>\n",
       "</div>"
      ],
      "text/plain": [
       "price_range_loc  High-range product  Low-range product  Mid-range product\n",
       "region                                                                   \n",
       "South                        139390            3368336            7284154\n",
       "West                         107168            2592736            5593009\n",
       "Midwest                       97918            2372304            5127103\n",
       "Northeast                     73202            1792943            3856591"
      ]
     },
     "execution_count": 23,
     "metadata": {},
     "output_type": "execute_result"
    }
   ],
   "source": [
    "price_region"
   ]
  },
  {
   "cell_type": "code",
   "execution_count": 24,
   "id": "e92708d3",
   "metadata": {},
   "outputs": [
    {
     "data": {
      "image/png": "[encoded data removed]",
      "text/plain": [
       "<Figure size 640x480 with 1 Axes>"
      ]
     },
     "metadata": {},
     "output_type": "display_data"
    }
   ],
   "source": [
    "# Visualize this information\n",
    "bar_price_region = price_region.plot.bar(color = ['#a1464b','#78964b','#d6cc00'], rot = 0)\n",
    "plt.title('Price-range by Region')\n",
    "plt.xlabel('Region')\n",
    "plt.ylabel('Product count')\n",
    "plt.show()"
   ]
  },
  {
   "cell_type": "code",
   "execution_count": 25,
   "id": "15bd4f94",
   "metadata": {},
   "outputs": [],
   "source": [
    "# Exporting chart\n",
    "bar_price_region.figure.savefig(os.path.join(path, '04 Analysis','Visualizations', 'bar_price_by_region.png'))"
   ]
  },
  {
   "cell_type": "code",
   "execution_count": 25,
   "id": "1e7ac986",
   "metadata": {},
   "outputs": [],
   "source": [
    "# Order frequency by region\n",
    "frequency_region = pd.crosstab(df['region'], df['frequency_flag'], dropna = False).sort_values(by = 'Frequent Customer', ascending = False)"
   ]
  },
  {
   "cell_type": "code",
   "execution_count": 26,
   "id": "710536bd",
   "metadata": {},
   "outputs": [
    {
     "data": {
      "text/html": [
       "<div>\n",
       "<style scoped>\n",
       "    .dataframe tbody tr th:only-of-type {\n",
       "        vertical-align: middle;\n",
       "    }\n",
       "\n",
       "    .dataframe tbody tr th {\n",
       "        vertical-align: top;\n",
       "    }\n",
       "\n",
       "    .dataframe thead th {\n",
       "        text-align: right;\n",
       "    }\n",
       "</style>\n",
       "<table border=\"1\" class=\"dataframe\">\n",
       "  <thead>\n",
       "    <tr style=\"text-align: right;\">\n",
       "      <th>frequency_flag</th>\n",
       "      <th>Frequent Customer</th>\n",
       "      <th>Non_frequent_customer</th>\n",
       "      <th>Regular customer</th>\n",
       "    </tr>\n",
       "    <tr>\n",
       "      <th>region</th>\n",
       "      <th></th>\n",
       "      <th></th>\n",
       "      <th></th>\n",
       "    </tr>\n",
       "  </thead>\n",
       "  <tbody>\n",
       "    <tr>\n",
       "      <th>South</th>\n",
       "      <td>7192372</td>\n",
       "      <td>1215088</td>\n",
       "      <td>2384420</td>\n",
       "    </tr>\n",
       "    <tr>\n",
       "      <th>West</th>\n",
       "      <td>5545206</td>\n",
       "      <td>927748</td>\n",
       "      <td>1819959</td>\n",
       "    </tr>\n",
       "    <tr>\n",
       "      <th>Midwest</th>\n",
       "      <td>5017709</td>\n",
       "      <td>863419</td>\n",
       "      <td>1716197</td>\n",
       "    </tr>\n",
       "    <tr>\n",
       "      <th>Northeast</th>\n",
       "      <td>3804566</td>\n",
       "      <td>630182</td>\n",
       "      <td>1287988</td>\n",
       "    </tr>\n",
       "  </tbody>\n",
       "</table>\n",
       "</div>"
      ],
      "text/plain": [
       "frequency_flag  Frequent Customer  Non_frequent_customer  Regular customer\n",
       "region                                                                    \n",
       "South                     7192372                1215088           2384420\n",
       "West                      5545206                 927748           1819959\n",
       "Midwest                   5017709                 863419           1716197\n",
       "Northeast                 3804566                 630182           1287988"
      ]
     },
     "execution_count": 26,
     "metadata": {},
     "output_type": "execute_result"
    }
   ],
   "source": [
    "frequency_region"
   ]
  },
  {
   "cell_type": "code",
   "execution_count": 27,
   "id": "4bbc8038",
   "metadata": {},
   "outputs": [
    {
     "data": {
      "image/png": "[encoded data removed]",
      "text/plain": [
       "<Figure size 640x480 with 1 Axes>"
      ]
     },
     "metadata": {},
     "output_type": "display_data"
    }
   ],
   "source": [
    "# Visualize this information\n",
    "bar_frequency_region = frequency_region.plot.bar(color = ['#a1464b','#78964b','#d6cc00'], rot = 0)\n",
    "plt.title('Order frequency by Region')\n",
    "plt.xlabel('Region')\n",
    "plt.ylabel('Number of customer')\n",
    "plt.show()"
   ]
  },
  {
   "cell_type": "code",
   "execution_count": 28,
   "id": "6ed3c1e0",
   "metadata": {},
   "outputs": [],
   "source": [
    "# Exporting chart\n",
    "bar_frequency_region.figure.savefig(os.path.join(path, '04 Analysis','Visualizations', 'bar_frequency_by_region.png'))"
   ]
  },
  {
   "cell_type": "code",
   "execution_count": 29,
   "id": "3eb672b6",
   "metadata": {},
   "outputs": [],
   "source": [
    "# Brand loyalty by region\n",
    "loyalty_region = pd.crosstab(df['region'], df['loyalty_flag'], dropna = False).sort_values(by = 'Regular customer', ascending = False)"
   ]
  },
  {
   "cell_type": "code",
   "execution_count": 30,
   "id": "137cdef5",
   "metadata": {},
   "outputs": [
    {
     "data": {
      "text/html": [
       "<div>\n",
       "<style scoped>\n",
       "    .dataframe tbody tr th:only-of-type {\n",
       "        vertical-align: middle;\n",
       "    }\n",
       "\n",
       "    .dataframe tbody tr th {\n",
       "        vertical-align: top;\n",
       "    }\n",
       "\n",
       "    .dataframe thead th {\n",
       "        text-align: right;\n",
       "    }\n",
       "</style>\n",
       "<table border=\"1\" class=\"dataframe\">\n",
       "  <thead>\n",
       "    <tr style=\"text-align: right;\">\n",
       "      <th>loyalty_flag</th>\n",
       "      <th>Loyal customer</th>\n",
       "      <th>New customer</th>\n",
       "      <th>Regular customer</th>\n",
       "    </tr>\n",
       "    <tr>\n",
       "      <th>region</th>\n",
       "      <th></th>\n",
       "      <th></th>\n",
       "      <th></th>\n",
       "    </tr>\n",
       "  </thead>\n",
       "  <tbody>\n",
       "    <tr>\n",
       "      <th>South</th>\n",
       "      <td>3405844</td>\n",
       "      <td>2074405</td>\n",
       "      <td>5311631</td>\n",
       "    </tr>\n",
       "    <tr>\n",
       "      <th>West</th>\n",
       "      <td>2662690</td>\n",
       "      <td>1596800</td>\n",
       "      <td>4033423</td>\n",
       "    </tr>\n",
       "    <tr>\n",
       "      <th>Midwest</th>\n",
       "      <td>2373774</td>\n",
       "      <td>1472573</td>\n",
       "      <td>3750978</td>\n",
       "    </tr>\n",
       "    <tr>\n",
       "      <th>Northeast</th>\n",
       "      <td>1841785</td>\n",
       "      <td>1100207</td>\n",
       "      <td>2780744</td>\n",
       "    </tr>\n",
       "  </tbody>\n",
       "</table>\n",
       "</div>"
      ],
      "text/plain": [
       "loyalty_flag  Loyal customer  New customer  Regular customer\n",
       "region                                                      \n",
       "South                3405844       2074405           5311631\n",
       "West                 2662690       1596800           4033423\n",
       "Midwest              2373774       1472573           3750978\n",
       "Northeast            1841785       1100207           2780744"
      ]
     },
     "execution_count": 30,
     "metadata": {},
     "output_type": "execute_result"
    }
   ],
   "source": [
    "loyalty_region"
   ]
  },
  {
   "cell_type": "code",
   "execution_count": 31,
   "id": "debd6f3a",
   "metadata": {},
   "outputs": [
    {
     "data": {
      "image/png": "[encoded data removed]",
      "text/plain": [
       "<Figure size 640x480 with 1 Axes>"
      ]
     },
     "metadata": {},
     "output_type": "display_data"
    }
   ],
   "source": [
    "# Visualize this information\n",
    "bar_loyalty_region = loyalty_region.plot.bar(color = ['#a1464b','#78964b','#d6cc00'], rot = 0)\n",
    "plt.title('Brand loyalty by Region')\n",
    "plt.xlabel('Region')\n",
    "plt.ylabel('Number of customer')\n",
    "plt.show()"
   ]
  },
  {
   "cell_type": "code",
   "execution_count": 32,
   "id": "6afdb648",
   "metadata": {},
   "outputs": [],
   "source": [
    "# Exporting chart\n",
    "bar_loyalty_region.figure.savefig(os.path.join(path, '04 Analysis','Visualizations', 'bar_loyalty_by_region.png'))"
   ]
  },
  {
   "cell_type": "markdown",
   "id": "e6e78dc8",
   "metadata": {},
   "source": [
    "## 05. Low-activity customers"
   ]
  },
  {
   "cell_type": "code",
   "execution_count": 33,
   "id": "3fb3b729",
   "metadata": {},
   "outputs": [],
   "source": [
    "# Create a flag column for low-activity customers\n",
    "df.loc[df['max_order'] < 5, 'customer_activity'] = 'low activity customers'"
   ]
  },
  {
   "cell_type": "code",
   "execution_count": 34,
   "id": "59741e2a",
   "metadata": {},
   "outputs": [],
   "source": [
    "df.loc[df['max_order'] >= 5, 'customer_activity'] = 'high activity customers'"
   ]
  },
  {
   "cell_type": "code",
   "execution_count": 35,
   "id": "c34f90c1",
   "metadata": {
    "scrolled": true
   },
   "outputs": [
    {
     "data": {
      "text/plain": [
       "customer_activity\n",
       "high activity customers    30964564\n",
       "low activity customers      1440290\n",
       "Name: count, dtype: int64"
      ]
     },
     "execution_count": 35,
     "metadata": {},
     "output_type": "execute_result"
    }
   ],
   "source": [
    "# Check the result\n",
    "df['customer_activity'].value_counts(dropna = False)"
   ]
  },
  {
   "cell_type": "markdown",
   "id": "1b9ed016",
   "metadata": {},
   "source": [
    "#### All the entries have been labeled."
   ]
  },
  {
   "cell_type": "code",
   "execution_count": 36,
   "id": "3a4de9c2",
   "metadata": {},
   "outputs": [],
   "source": [
    "#Creat a new dataframe contains all low-activity customer\n",
    "df_low = df[df['customer_activity'] == 'low activity customers']"
   ]
  },
  {
   "cell_type": "code",
   "execution_count": 37,
   "id": "8f881d31",
   "metadata": {},
   "outputs": [
    {
     "data": {
      "text/html": [
       "<div>\n",
       "<style scoped>\n",
       "    .dataframe tbody tr th:only-of-type {\n",
       "        vertical-align: middle;\n",
       "    }\n",
       "\n",
       "    .dataframe tbody tr th {\n",
       "        vertical-align: top;\n",
       "    }\n",
       "\n",
       "    .dataframe thead th {\n",
       "        text-align: right;\n",
       "    }\n",
       "</style>\n",
       "<table border=\"1\" class=\"dataframe\">\n",
       "  <thead>\n",
       "    <tr style=\"text-align: right;\">\n",
       "      <th></th>\n",
       "      <th>order_id</th>\n",
       "      <th>user_id</th>\n",
       "      <th>order_number</th>\n",
       "      <th>orders_day_of_week</th>\n",
       "      <th>order_hour_of_day</th>\n",
       "      <th>days_since_last_order</th>\n",
       "      <th>first_order</th>\n",
       "      <th>product_id</th>\n",
       "      <th>add_to_cart_order</th>\n",
       "      <th>reordered</th>\n",
       "      <th>...</th>\n",
       "      <th>Gender</th>\n",
       "      <th>STATE</th>\n",
       "      <th>Age</th>\n",
       "      <th>date_joined</th>\n",
       "      <th>dependants</th>\n",
       "      <th>family_status</th>\n",
       "      <th>income</th>\n",
       "      <th>_merge</th>\n",
       "      <th>region</th>\n",
       "      <th>customer_activity</th>\n",
       "    </tr>\n",
       "  </thead>\n",
       "  <tbody>\n",
       "    <tr>\n",
       "      <th>1510</th>\n",
       "      <td>520620</td>\n",
       "      <td>120</td>\n",
       "      <td>1</td>\n",
       "      <td>3</td>\n",
       "      <td>11</td>\n",
       "      <td>NaN</td>\n",
       "      <td>First Order</td>\n",
       "      <td>196</td>\n",
       "      <td>2</td>\n",
       "      <td>0</td>\n",
       "      <td>...</td>\n",
       "      <td>Female</td>\n",
       "      <td>Kentucky</td>\n",
       "      <td>54</td>\n",
       "      <td>2017-03-02</td>\n",
       "      <td>2</td>\n",
       "      <td>married</td>\n",
       "      <td>99219</td>\n",
       "      <td>both</td>\n",
       "      <td>South</td>\n",
       "      <td>low activity customers</td>\n",
       "    </tr>\n",
       "    <tr>\n",
       "      <th>1511</th>\n",
       "      <td>3273029</td>\n",
       "      <td>120</td>\n",
       "      <td>3</td>\n",
       "      <td>2</td>\n",
       "      <td>8</td>\n",
       "      <td>19.0</td>\n",
       "      <td>Repeat Customer</td>\n",
       "      <td>196</td>\n",
       "      <td>2</td>\n",
       "      <td>1</td>\n",
       "      <td>...</td>\n",
       "      <td>Female</td>\n",
       "      <td>Kentucky</td>\n",
       "      <td>54</td>\n",
       "      <td>2017-03-02</td>\n",
       "      <td>2</td>\n",
       "      <td>married</td>\n",
       "      <td>99219</td>\n",
       "      <td>both</td>\n",
       "      <td>South</td>\n",
       "      <td>low activity customers</td>\n",
       "    </tr>\n",
       "    <tr>\n",
       "      <th>1512</th>\n",
       "      <td>520620</td>\n",
       "      <td>120</td>\n",
       "      <td>1</td>\n",
       "      <td>3</td>\n",
       "      <td>11</td>\n",
       "      <td>NaN</td>\n",
       "      <td>First Order</td>\n",
       "      <td>46149</td>\n",
       "      <td>1</td>\n",
       "      <td>0</td>\n",
       "      <td>...</td>\n",
       "      <td>Female</td>\n",
       "      <td>Kentucky</td>\n",
       "      <td>54</td>\n",
       "      <td>2017-03-02</td>\n",
       "      <td>2</td>\n",
       "      <td>married</td>\n",
       "      <td>99219</td>\n",
       "      <td>both</td>\n",
       "      <td>South</td>\n",
       "      <td>low activity customers</td>\n",
       "    </tr>\n",
       "    <tr>\n",
       "      <th>1513</th>\n",
       "      <td>3273029</td>\n",
       "      <td>120</td>\n",
       "      <td>3</td>\n",
       "      <td>2</td>\n",
       "      <td>8</td>\n",
       "      <td>19.0</td>\n",
       "      <td>Repeat Customer</td>\n",
       "      <td>46149</td>\n",
       "      <td>1</td>\n",
       "      <td>1</td>\n",
       "      <td>...</td>\n",
       "      <td>Female</td>\n",
       "      <td>Kentucky</td>\n",
       "      <td>54</td>\n",
       "      <td>2017-03-02</td>\n",
       "      <td>2</td>\n",
       "      <td>married</td>\n",
       "      <td>99219</td>\n",
       "      <td>both</td>\n",
       "      <td>South</td>\n",
       "      <td>low activity customers</td>\n",
       "    </tr>\n",
       "    <tr>\n",
       "      <th>1514</th>\n",
       "      <td>520620</td>\n",
       "      <td>120</td>\n",
       "      <td>1</td>\n",
       "      <td>3</td>\n",
       "      <td>11</td>\n",
       "      <td>NaN</td>\n",
       "      <td>First Order</td>\n",
       "      <td>26348</td>\n",
       "      <td>3</td>\n",
       "      <td>0</td>\n",
       "      <td>...</td>\n",
       "      <td>Female</td>\n",
       "      <td>Kentucky</td>\n",
       "      <td>54</td>\n",
       "      <td>2017-03-02</td>\n",
       "      <td>2</td>\n",
       "      <td>married</td>\n",
       "      <td>99219</td>\n",
       "      <td>both</td>\n",
       "      <td>South</td>\n",
       "      <td>low activity customers</td>\n",
       "    </tr>\n",
       "    <tr>\n",
       "      <th>1515</th>\n",
       "      <td>906054</td>\n",
       "      <td>120</td>\n",
       "      <td>2</td>\n",
       "      <td>4</td>\n",
       "      <td>7</td>\n",
       "      <td>15.0</td>\n",
       "      <td>Repeat Customer</td>\n",
       "      <td>31102</td>\n",
       "      <td>1</td>\n",
       "      <td>0</td>\n",
       "      <td>...</td>\n",
       "      <td>Female</td>\n",
       "      <td>Kentucky</td>\n",
       "      <td>54</td>\n",
       "      <td>2017-03-02</td>\n",
       "      <td>2</td>\n",
       "      <td>married</td>\n",
       "      <td>99219</td>\n",
       "      <td>both</td>\n",
       "      <td>South</td>\n",
       "      <td>low activity customers</td>\n",
       "    </tr>\n",
       "    <tr>\n",
       "      <th>1516</th>\n",
       "      <td>3273029</td>\n",
       "      <td>120</td>\n",
       "      <td>3</td>\n",
       "      <td>2</td>\n",
       "      <td>8</td>\n",
       "      <td>19.0</td>\n",
       "      <td>Repeat Customer</td>\n",
       "      <td>31102</td>\n",
       "      <td>3</td>\n",
       "      <td>1</td>\n",
       "      <td>...</td>\n",
       "      <td>Female</td>\n",
       "      <td>Kentucky</td>\n",
       "      <td>54</td>\n",
       "      <td>2017-03-02</td>\n",
       "      <td>2</td>\n",
       "      <td>married</td>\n",
       "      <td>99219</td>\n",
       "      <td>both</td>\n",
       "      <td>South</td>\n",
       "      <td>low activity customers</td>\n",
       "    </tr>\n",
       "    <tr>\n",
       "      <th>3855</th>\n",
       "      <td>3226575</td>\n",
       "      <td>360</td>\n",
       "      <td>1</td>\n",
       "      <td>5</td>\n",
       "      <td>12</td>\n",
       "      <td>NaN</td>\n",
       "      <td>First Order</td>\n",
       "      <td>196</td>\n",
       "      <td>1</td>\n",
       "      <td>0</td>\n",
       "      <td>...</td>\n",
       "      <td>Male</td>\n",
       "      <td>Arizona</td>\n",
       "      <td>46</td>\n",
       "      <td>2017-09-01</td>\n",
       "      <td>1</td>\n",
       "      <td>married</td>\n",
       "      <td>104257</td>\n",
       "      <td>both</td>\n",
       "      <td>West</td>\n",
       "      <td>low activity customers</td>\n",
       "    </tr>\n",
       "    <tr>\n",
       "      <th>3856</th>\n",
       "      <td>3046940</td>\n",
       "      <td>360</td>\n",
       "      <td>2</td>\n",
       "      <td>2</td>\n",
       "      <td>8</td>\n",
       "      <td>4.0</td>\n",
       "      <td>Repeat Customer</td>\n",
       "      <td>5322</td>\n",
       "      <td>3</td>\n",
       "      <td>0</td>\n",
       "      <td>...</td>\n",
       "      <td>Male</td>\n",
       "      <td>Arizona</td>\n",
       "      <td>46</td>\n",
       "      <td>2017-09-01</td>\n",
       "      <td>1</td>\n",
       "      <td>married</td>\n",
       "      <td>104257</td>\n",
       "      <td>both</td>\n",
       "      <td>West</td>\n",
       "      <td>low activity customers</td>\n",
       "    </tr>\n",
       "    <tr>\n",
       "      <th>3857</th>\n",
       "      <td>2300993</td>\n",
       "      <td>360</td>\n",
       "      <td>3</td>\n",
       "      <td>1</td>\n",
       "      <td>13</td>\n",
       "      <td>6.0</td>\n",
       "      <td>Repeat Customer</td>\n",
       "      <td>5322</td>\n",
       "      <td>2</td>\n",
       "      <td>1</td>\n",
       "      <td>...</td>\n",
       "      <td>Male</td>\n",
       "      <td>Arizona</td>\n",
       "      <td>46</td>\n",
       "      <td>2017-09-01</td>\n",
       "      <td>1</td>\n",
       "      <td>married</td>\n",
       "      <td>104257</td>\n",
       "      <td>both</td>\n",
       "      <td>West</td>\n",
       "      <td>low activity customers</td>\n",
       "    </tr>\n",
       "    <tr>\n",
       "      <th>3858</th>\n",
       "      <td>3226575</td>\n",
       "      <td>360</td>\n",
       "      <td>1</td>\n",
       "      <td>5</td>\n",
       "      <td>12</td>\n",
       "      <td>NaN</td>\n",
       "      <td>First Order</td>\n",
       "      <td>41406</td>\n",
       "      <td>5</td>\n",
       "      <td>0</td>\n",
       "      <td>...</td>\n",
       "      <td>Male</td>\n",
       "      <td>Arizona</td>\n",
       "      <td>46</td>\n",
       "      <td>2017-09-01</td>\n",
       "      <td>1</td>\n",
       "      <td>married</td>\n",
       "      <td>104257</td>\n",
       "      <td>both</td>\n",
       "      <td>West</td>\n",
       "      <td>low activity customers</td>\n",
       "    </tr>\n",
       "    <tr>\n",
       "      <th>3859</th>\n",
       "      <td>2300993</td>\n",
       "      <td>360</td>\n",
       "      <td>3</td>\n",
       "      <td>1</td>\n",
       "      <td>13</td>\n",
       "      <td>6.0</td>\n",
       "      <td>Repeat Customer</td>\n",
       "      <td>28155</td>\n",
       "      <td>3</td>\n",
       "      <td>0</td>\n",
       "      <td>...</td>\n",
       "      <td>Male</td>\n",
       "      <td>Arizona</td>\n",
       "      <td>46</td>\n",
       "      <td>2017-09-01</td>\n",
       "      <td>1</td>\n",
       "      <td>married</td>\n",
       "      <td>104257</td>\n",
       "      <td>both</td>\n",
       "      <td>West</td>\n",
       "      <td>low activity customers</td>\n",
       "    </tr>\n",
       "    <tr>\n",
       "      <th>3860</th>\n",
       "      <td>3226575</td>\n",
       "      <td>360</td>\n",
       "      <td>1</td>\n",
       "      <td>5</td>\n",
       "      <td>12</td>\n",
       "      <td>NaN</td>\n",
       "      <td>First Order</td>\n",
       "      <td>40910</td>\n",
       "      <td>3</td>\n",
       "      <td>0</td>\n",
       "      <td>...</td>\n",
       "      <td>Male</td>\n",
       "      <td>Arizona</td>\n",
       "      <td>46</td>\n",
       "      <td>2017-09-01</td>\n",
       "      <td>1</td>\n",
       "      <td>married</td>\n",
       "      <td>104257</td>\n",
       "      <td>both</td>\n",
       "      <td>West</td>\n",
       "      <td>low activity customers</td>\n",
       "    </tr>\n",
       "    <tr>\n",
       "      <th>3861</th>\n",
       "      <td>3046940</td>\n",
       "      <td>360</td>\n",
       "      <td>2</td>\n",
       "      <td>2</td>\n",
       "      <td>8</td>\n",
       "      <td>4.0</td>\n",
       "      <td>Repeat Customer</td>\n",
       "      <td>18095</td>\n",
       "      <td>4</td>\n",
       "      <td>0</td>\n",
       "      <td>...</td>\n",
       "      <td>Male</td>\n",
       "      <td>Arizona</td>\n",
       "      <td>46</td>\n",
       "      <td>2017-09-01</td>\n",
       "      <td>1</td>\n",
       "      <td>married</td>\n",
       "      <td>104257</td>\n",
       "      <td>both</td>\n",
       "      <td>West</td>\n",
       "      <td>low activity customers</td>\n",
       "    </tr>\n",
       "    <tr>\n",
       "      <th>3862</th>\n",
       "      <td>2300993</td>\n",
       "      <td>360</td>\n",
       "      <td>3</td>\n",
       "      <td>1</td>\n",
       "      <td>13</td>\n",
       "      <td>6.0</td>\n",
       "      <td>Repeat Customer</td>\n",
       "      <td>18095</td>\n",
       "      <td>5</td>\n",
       "      <td>1</td>\n",
       "      <td>...</td>\n",
       "      <td>Male</td>\n",
       "      <td>Arizona</td>\n",
       "      <td>46</td>\n",
       "      <td>2017-09-01</td>\n",
       "      <td>1</td>\n",
       "      <td>married</td>\n",
       "      <td>104257</td>\n",
       "      <td>both</td>\n",
       "      <td>West</td>\n",
       "      <td>low activity customers</td>\n",
       "    </tr>\n",
       "    <tr>\n",
       "      <th>3863</th>\n",
       "      <td>3226575</td>\n",
       "      <td>360</td>\n",
       "      <td>1</td>\n",
       "      <td>5</td>\n",
       "      <td>12</td>\n",
       "      <td>NaN</td>\n",
       "      <td>First Order</td>\n",
       "      <td>43556</td>\n",
       "      <td>2</td>\n",
       "      <td>0</td>\n",
       "      <td>...</td>\n",
       "      <td>Male</td>\n",
       "      <td>Arizona</td>\n",
       "      <td>46</td>\n",
       "      <td>2017-09-01</td>\n",
       "      <td>1</td>\n",
       "      <td>married</td>\n",
       "      <td>104257</td>\n",
       "      <td>both</td>\n",
       "      <td>West</td>\n",
       "      <td>low activity customers</td>\n",
       "    </tr>\n",
       "    <tr>\n",
       "      <th>3864</th>\n",
       "      <td>3046940</td>\n",
       "      <td>360</td>\n",
       "      <td>2</td>\n",
       "      <td>2</td>\n",
       "      <td>8</td>\n",
       "      <td>4.0</td>\n",
       "      <td>Repeat Customer</td>\n",
       "      <td>32285</td>\n",
       "      <td>5</td>\n",
       "      <td>0</td>\n",
       "      <td>...</td>\n",
       "      <td>Male</td>\n",
       "      <td>Arizona</td>\n",
       "      <td>46</td>\n",
       "      <td>2017-09-01</td>\n",
       "      <td>1</td>\n",
       "      <td>married</td>\n",
       "      <td>104257</td>\n",
       "      <td>both</td>\n",
       "      <td>West</td>\n",
       "      <td>low activity customers</td>\n",
       "    </tr>\n",
       "    <tr>\n",
       "      <th>3865</th>\n",
       "      <td>3046940</td>\n",
       "      <td>360</td>\n",
       "      <td>2</td>\n",
       "      <td>2</td>\n",
       "      <td>8</td>\n",
       "      <td>4.0</td>\n",
       "      <td>Repeat Customer</td>\n",
       "      <td>17022</td>\n",
       "      <td>6</td>\n",
       "      <td>0</td>\n",
       "      <td>...</td>\n",
       "      <td>Male</td>\n",
       "      <td>Arizona</td>\n",
       "      <td>46</td>\n",
       "      <td>2017-09-01</td>\n",
       "      <td>1</td>\n",
       "      <td>married</td>\n",
       "      <td>104257</td>\n",
       "      <td>both</td>\n",
       "      <td>West</td>\n",
       "      <td>low activity customers</td>\n",
       "    </tr>\n",
       "    <tr>\n",
       "      <th>3866</th>\n",
       "      <td>3226575</td>\n",
       "      <td>360</td>\n",
       "      <td>1</td>\n",
       "      <td>5</td>\n",
       "      <td>12</td>\n",
       "      <td>NaN</td>\n",
       "      <td>First Order</td>\n",
       "      <td>3039</td>\n",
       "      <td>4</td>\n",
       "      <td>0</td>\n",
       "      <td>...</td>\n",
       "      <td>Male</td>\n",
       "      <td>Arizona</td>\n",
       "      <td>46</td>\n",
       "      <td>2017-09-01</td>\n",
       "      <td>1</td>\n",
       "      <td>married</td>\n",
       "      <td>104257</td>\n",
       "      <td>both</td>\n",
       "      <td>West</td>\n",
       "      <td>low activity customers</td>\n",
       "    </tr>\n",
       "    <tr>\n",
       "      <th>3867</th>\n",
       "      <td>3046940</td>\n",
       "      <td>360</td>\n",
       "      <td>2</td>\n",
       "      <td>2</td>\n",
       "      <td>8</td>\n",
       "      <td>4.0</td>\n",
       "      <td>Repeat Customer</td>\n",
       "      <td>25630</td>\n",
       "      <td>1</td>\n",
       "      <td>0</td>\n",
       "      <td>...</td>\n",
       "      <td>Male</td>\n",
       "      <td>Arizona</td>\n",
       "      <td>46</td>\n",
       "      <td>2017-09-01</td>\n",
       "      <td>1</td>\n",
       "      <td>married</td>\n",
       "      <td>104257</td>\n",
       "      <td>both</td>\n",
       "      <td>West</td>\n",
       "      <td>low activity customers</td>\n",
       "    </tr>\n",
       "  </tbody>\n",
       "</table>\n",
       "<p>20 rows × 34 columns</p>\n",
       "</div>"
      ],
      "text/plain": [
       "      order_id user_id  order_number  orders_day_of_week  order_hour_of_day  \\\n",
       "1510    520620     120             1                   3                 11   \n",
       "1511   3273029     120             3                   2                  8   \n",
       "1512    520620     120             1                   3                 11   \n",
       "1513   3273029     120             3                   2                  8   \n",
       "1514    520620     120             1                   3                 11   \n",
       "1515    906054     120             2                   4                  7   \n",
       "1516   3273029     120             3                   2                  8   \n",
       "3855   3226575     360             1                   5                 12   \n",
       "3856   3046940     360             2                   2                  8   \n",
       "3857   2300993     360             3                   1                 13   \n",
       "3858   3226575     360             1                   5                 12   \n",
       "3859   2300993     360             3                   1                 13   \n",
       "3860   3226575     360             1                   5                 12   \n",
       "3861   3046940     360             2                   2                  8   \n",
       "3862   2300993     360             3                   1                 13   \n",
       "3863   3226575     360             1                   5                 12   \n",
       "3864   3046940     360             2                   2                  8   \n",
       "3865   3046940     360             2                   2                  8   \n",
       "3866   3226575     360             1                   5                 12   \n",
       "3867   3046940     360             2                   2                  8   \n",
       "\n",
       "      days_since_last_order      first_order  product_id  add_to_cart_order  \\\n",
       "1510                    NaN      First Order         196                  2   \n",
       "1511                   19.0  Repeat Customer         196                  2   \n",
       "1512                    NaN      First Order       46149                  1   \n",
       "1513                   19.0  Repeat Customer       46149                  1   \n",
       "1514                    NaN      First Order       26348                  3   \n",
       "1515                   15.0  Repeat Customer       31102                  1   \n",
       "1516                   19.0  Repeat Customer       31102                  3   \n",
       "3855                    NaN      First Order         196                  1   \n",
       "3856                    4.0  Repeat Customer        5322                  3   \n",
       "3857                    6.0  Repeat Customer        5322                  2   \n",
       "3858                    NaN      First Order       41406                  5   \n",
       "3859                    6.0  Repeat Customer       28155                  3   \n",
       "3860                    NaN      First Order       40910                  3   \n",
       "3861                    4.0  Repeat Customer       18095                  4   \n",
       "3862                    6.0  Repeat Customer       18095                  5   \n",
       "3863                    NaN      First Order       43556                  2   \n",
       "3864                    4.0  Repeat Customer       32285                  5   \n",
       "3865                    4.0  Repeat Customer       17022                  6   \n",
       "3866                    NaN      First Order        3039                  4   \n",
       "3867                    4.0  Repeat Customer       25630                  1   \n",
       "\n",
       "      reordered  ...  Gender     STATE  Age  date_joined dependants  \\\n",
       "1510          0  ...  Female  Kentucky   54   2017-03-02          2   \n",
       "1511          1  ...  Female  Kentucky   54   2017-03-02          2   \n",
       "1512          0  ...  Female  Kentucky   54   2017-03-02          2   \n",
       "1513          1  ...  Female  Kentucky   54   2017-03-02          2   \n",
       "1514          0  ...  Female  Kentucky   54   2017-03-02          2   \n",
       "1515          0  ...  Female  Kentucky   54   2017-03-02          2   \n",
       "1516          1  ...  Female  Kentucky   54   2017-03-02          2   \n",
       "3855          0  ...    Male   Arizona   46   2017-09-01          1   \n",
       "3856          0  ...    Male   Arizona   46   2017-09-01          1   \n",
       "3857          1  ...    Male   Arizona   46   2017-09-01          1   \n",
       "3858          0  ...    Male   Arizona   46   2017-09-01          1   \n",
       "3859          0  ...    Male   Arizona   46   2017-09-01          1   \n",
       "3860          0  ...    Male   Arizona   46   2017-09-01          1   \n",
       "3861          0  ...    Male   Arizona   46   2017-09-01          1   \n",
       "3862          1  ...    Male   Arizona   46   2017-09-01          1   \n",
       "3863          0  ...    Male   Arizona   46   2017-09-01          1   \n",
       "3864          0  ...    Male   Arizona   46   2017-09-01          1   \n",
       "3865          0  ...    Male   Arizona   46   2017-09-01          1   \n",
       "3866          0  ...    Male   Arizona   46   2017-09-01          1   \n",
       "3867          0  ...    Male   Arizona   46   2017-09-01          1   \n",
       "\n",
       "      family_status  income _merge  region       customer_activity  \n",
       "1510        married   99219   both   South  low activity customers  \n",
       "1511        married   99219   both   South  low activity customers  \n",
       "1512        married   99219   both   South  low activity customers  \n",
       "1513        married   99219   both   South  low activity customers  \n",
       "1514        married   99219   both   South  low activity customers  \n",
       "1515        married   99219   both   South  low activity customers  \n",
       "1516        married   99219   both   South  low activity customers  \n",
       "3855        married  104257   both    West  low activity customers  \n",
       "3856        married  104257   both    West  low activity customers  \n",
       "3857        married  104257   both    West  low activity customers  \n",
       "3858        married  104257   both    West  low activity customers  \n",
       "3859        married  104257   both    West  low activity customers  \n",
       "3860        married  104257   both    West  low activity customers  \n",
       "3861        married  104257   both    West  low activity customers  \n",
       "3862        married  104257   both    West  low activity customers  \n",
       "3863        married  104257   both    West  low activity customers  \n",
       "3864        married  104257   both    West  low activity customers  \n",
       "3865        married  104257   both    West  low activity customers  \n",
       "3866        married  104257   both    West  low activity customers  \n",
       "3867        married  104257   both    West  low activity customers  \n",
       "\n",
       "[20 rows x 34 columns]"
      ]
     },
     "execution_count": 37,
     "metadata": {},
     "output_type": "execute_result"
    }
   ],
   "source": [
    "df_low.head(20)"
   ]
  },
  {
   "cell_type": "code",
   "execution_count": 38,
   "id": "9adf56fd",
   "metadata": {},
   "outputs": [
    {
     "data": {
      "text/plain": [
       "(1440290, 34)"
      ]
     },
     "execution_count": 38,
     "metadata": {},
     "output_type": "execute_result"
    }
   ],
   "source": [
    "df_low.shape #Check the number of observations"
   ]
  },
  {
   "cell_type": "code",
   "execution_count": 39,
   "id": "27478930",
   "metadata": {},
   "outputs": [],
   "source": [
    "#Creat a new dataframe contains all high-activity customer for further analysis\n",
    "df_high = df[df['customer_activity'] == 'high activity customers']"
   ]
  },
  {
   "cell_type": "code",
   "execution_count": 40,
   "id": "8f1fa4a7",
   "metadata": {},
   "outputs": [
    {
     "data": {
      "text/plain": [
       "(30964564, 34)"
      ]
     },
     "execution_count": 40,
     "metadata": {},
     "output_type": "execute_result"
    }
   ],
   "source": [
    "df_high.shape #Check the number of observations"
   ]
  },
  {
   "cell_type": "code",
   "execution_count": 41,
   "id": "47ca47b5",
   "metadata": {},
   "outputs": [],
   "source": [
    "# Export both dataframes into pickle file\n",
    "df_low.to_pickle(os.path.join(path, '02 Data','Prepared Data', 'orders_products_low_activicty.pkl'))"
   ]
  },
  {
   "cell_type": "code",
   "execution_count": 42,
   "id": "b05f8605",
   "metadata": {},
   "outputs": [],
   "source": [
    "df_high.to_pickle(os.path.join(path, '02 Data','Prepared Data', 'orders_products_high_activicty.pkl'))"
   ]
  }
 ],
 "metadata": {
  "kernelspec": {
   "display_name": "Python 3 (ipykernel)",
   "language": "python",
   "name": "python3"
  },
  "language_info": {
   "codemirror_mode": {
    "name": "ipython",
    "version": 3
   },
   "file_extension": ".py",
   "mimetype": "text/x-python",
   "name": "python",
   "nbconvert_exporter": "python",
   "pygments_lexer": "ipython3",
   "version": "3.11.5"
  }
 },
 "nbformat": 4,
 "nbformat_minor": 5
}
