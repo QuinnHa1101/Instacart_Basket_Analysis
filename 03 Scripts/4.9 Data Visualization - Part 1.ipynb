{
 "cells": [
  {
   "cell_type": "markdown",
   "id": "89e1ef10",
   "metadata": {},
   "source": [
    "# 4.9.1 Data Visualization - Part 1"
   ]
  },
  {
   "cell_type": "markdown",
   "id": "7b1f7b44",
   "metadata": {},
   "source": [
    "## This script contain following points:"
   ]
  },
  {
   "cell_type": "markdown",
   "id": "0d59000b",
   "metadata": {},
   "source": [
    "### 01. Wrangle the customer dataset so that it follows consistent logic"
   ]
  },
  {
   "cell_type": "markdown",
   "id": "4512bb6f",
   "metadata": {},
   "source": [
    "### 02. Complete the fundamental data quality and consistency checks"
   ]
  },
  {
   "cell_type": "markdown",
   "id": "b0e9f6d2",
   "metadata": {},
   "source": [
    "### 03. Combine customer data with the rest of prepared Instacart data"
   ]
  },
  {
   "cell_type": "markdown",
   "id": "630447c4",
   "metadata": {},
   "source": [
    "### 04. Export this new dataframe as a pickle file"
   ]
  },
  {
   "cell_type": "markdown",
   "id": "ae033b67",
   "metadata": {},
   "source": [
    "## 01. Import libraries"
   ]
  },
  {
   "cell_type": "code",
   "execution_count": 44,
   "id": "dc68d727",
   "metadata": {},
   "outputs": [],
   "source": [
    "# Import libraries\n",
    "import pandas as pd\n",
    "import numpy as np\n",
    "import os"
   ]
  },
  {
   "cell_type": "markdown",
   "id": "31cf2c2a",
   "metadata": {},
   "source": [
    "## 02. Import the customer dataset"
   ]
  },
  {
   "cell_type": "code",
   "execution_count": 45,
   "id": "3d9d5d60",
   "metadata": {},
   "outputs": [],
   "source": [
    "# Create path\n",
    "path = r'C:\\Users\\Quinn\\OneDrive\\Documents\\CF - Data Analyst\\Data Immersion\\Instacart Basket Analysis'"
   ]
  },
  {
   "cell_type": "code",
   "execution_count": 46,
   "id": "1a7c4ead",
   "metadata": {},
   "outputs": [],
   "source": [
    "# Import customer dataset\n",
    "customer = pd.read_csv(os.path.join(path, '02 Data', 'Original Data', 'customers.csv'))"
   ]
  },
  {
   "cell_type": "markdown",
   "id": "19d071de",
   "metadata": {},
   "source": [
    "## 03. Wrangle the customer dataset "
   ]
  },
  {
   "cell_type": "code",
   "execution_count": 47,
   "id": "e584247b",
   "metadata": {},
   "outputs": [
    {
     "data": {
      "text/plain": [
       "(206209, 10)"
      ]
     },
     "execution_count": 47,
     "metadata": {},
     "output_type": "execute_result"
    }
   ],
   "source": [
    "# Check out the original dataset\n",
    "customer.shape"
   ]
  },
  {
   "cell_type": "code",
   "execution_count": 48,
   "id": "4fe4e0ca",
   "metadata": {},
   "outputs": [
    {
     "data": {
      "text/plain": [
       "<bound method DataFrame.info of         user_id First Name    Surnam  Gender           STATE  Age date_joined  \\\n",
       "0         26711    Deborah  Esquivel  Female        Missouri   48    1/1/2017   \n",
       "1         33890   Patricia      Hart  Female      New Mexico   36    1/1/2017   \n",
       "2         65803    Kenneth    Farley    Male           Idaho   35    1/1/2017   \n",
       "3        125935   Michelle     Hicks  Female            Iowa   40    1/1/2017   \n",
       "4        130797        Ann   Gilmore  Female        Maryland   26    1/1/2017   \n",
       "...         ...        ...       ...     ...             ...  ...         ...   \n",
       "206204   168073       Lisa      Case  Female  North Carolina   44    4/1/2020   \n",
       "206205    49635     Jeremy   Robbins    Male          Hawaii   62    4/1/2020   \n",
       "206206   135902      Doris  Richmond  Female        Missouri   66    4/1/2020   \n",
       "206207    81095       Rose   Rollins  Female      California   27    4/1/2020   \n",
       "206208    80148    Cynthia     Noble  Female        New York   55    4/1/2020   \n",
       "\n",
       "        n_dependants fam_status  income  \n",
       "0                  3    married  165665  \n",
       "1                  0     single   59285  \n",
       "2                  2    married   99568  \n",
       "3                  0     single   42049  \n",
       "4                  1    married   40374  \n",
       "...              ...        ...     ...  \n",
       "206204             1    married  148828  \n",
       "206205             3    married  168639  \n",
       "206206             2    married   53374  \n",
       "206207             1    married   99799  \n",
       "206208             1    married   57095  \n",
       "\n",
       "[206209 rows x 10 columns]>"
      ]
     },
     "execution_count": 48,
     "metadata": {},
     "output_type": "execute_result"
    }
   ],
   "source": [
    "customer.info"
   ]
  },
  {
   "cell_type": "markdown",
   "id": "e8cbe2c6",
   "metadata": {},
   "source": [
    "#### Observation: The first name and surname of the customers are PII, which would be unnecessary information for our analysis. These columns should be dropped. "
   ]
  },
  {
   "cell_type": "markdown",
   "id": "55273b32",
   "metadata": {},
   "source": [
    "#### I also renamed n_dependants to dependants and fam_status to family_status, which have more precise meanings."
   ]
  },
  {
   "cell_type": "code",
   "execution_count": 49,
   "id": "05881c59",
   "metadata": {},
   "outputs": [],
   "source": [
    "# Drop the unnecessary columns\n",
    "customer = customer.drop(columns = ['First Name','Surnam'])"
   ]
  },
  {
   "cell_type": "code",
   "execution_count": 50,
   "id": "9d301a70",
   "metadata": {},
   "outputs": [],
   "source": [
    "# Rename two columns mentioned above\n",
    "customer.rename(columns = {'n_dependants' : 'dependants', 'fam_status' : ' family_status'}, inplace = True)"
   ]
  },
  {
   "cell_type": "code",
   "execution_count": 51,
   "id": "6aa3a415",
   "metadata": {},
   "outputs": [
    {
     "data": {
      "text/html": [
       "<div>\n",
       "<style scoped>\n",
       "    .dataframe tbody tr th:only-of-type {\n",
       "        vertical-align: middle;\n",
       "    }\n",
       "\n",
       "    .dataframe tbody tr th {\n",
       "        vertical-align: top;\n",
       "    }\n",
       "\n",
       "    .dataframe thead th {\n",
       "        text-align: right;\n",
       "    }\n",
       "</style>\n",
       "<table border=\"1\" class=\"dataframe\">\n",
       "  <thead>\n",
       "    <tr style=\"text-align: right;\">\n",
       "      <th></th>\n",
       "      <th>user_id</th>\n",
       "      <th>Gender</th>\n",
       "      <th>STATE</th>\n",
       "      <th>Age</th>\n",
       "      <th>date_joined</th>\n",
       "      <th>dependants</th>\n",
       "      <th>family_status</th>\n",
       "      <th>income</th>\n",
       "    </tr>\n",
       "  </thead>\n",
       "  <tbody>\n",
       "    <tr>\n",
       "      <th>0</th>\n",
       "      <td>26711</td>\n",
       "      <td>Female</td>\n",
       "      <td>Missouri</td>\n",
       "      <td>48</td>\n",
       "      <td>1/1/2017</td>\n",
       "      <td>3</td>\n",
       "      <td>married</td>\n",
       "      <td>165665</td>\n",
       "    </tr>\n",
       "    <tr>\n",
       "      <th>1</th>\n",
       "      <td>33890</td>\n",
       "      <td>Female</td>\n",
       "      <td>New Mexico</td>\n",
       "      <td>36</td>\n",
       "      <td>1/1/2017</td>\n",
       "      <td>0</td>\n",
       "      <td>single</td>\n",
       "      <td>59285</td>\n",
       "    </tr>\n",
       "    <tr>\n",
       "      <th>2</th>\n",
       "      <td>65803</td>\n",
       "      <td>Male</td>\n",
       "      <td>Idaho</td>\n",
       "      <td>35</td>\n",
       "      <td>1/1/2017</td>\n",
       "      <td>2</td>\n",
       "      <td>married</td>\n",
       "      <td>99568</td>\n",
       "    </tr>\n",
       "    <tr>\n",
       "      <th>3</th>\n",
       "      <td>125935</td>\n",
       "      <td>Female</td>\n",
       "      <td>Iowa</td>\n",
       "      <td>40</td>\n",
       "      <td>1/1/2017</td>\n",
       "      <td>0</td>\n",
       "      <td>single</td>\n",
       "      <td>42049</td>\n",
       "    </tr>\n",
       "    <tr>\n",
       "      <th>4</th>\n",
       "      <td>130797</td>\n",
       "      <td>Female</td>\n",
       "      <td>Maryland</td>\n",
       "      <td>26</td>\n",
       "      <td>1/1/2017</td>\n",
       "      <td>1</td>\n",
       "      <td>married</td>\n",
       "      <td>40374</td>\n",
       "    </tr>\n",
       "  </tbody>\n",
       "</table>\n",
       "</div>"
      ],
      "text/plain": [
       "   user_id  Gender       STATE  Age date_joined  dependants  family_status  \\\n",
       "0    26711  Female    Missouri   48    1/1/2017           3        married   \n",
       "1    33890  Female  New Mexico   36    1/1/2017           0         single   \n",
       "2    65803    Male       Idaho   35    1/1/2017           2        married   \n",
       "3   125935  Female        Iowa   40    1/1/2017           0         single   \n",
       "4   130797  Female    Maryland   26    1/1/2017           1        married   \n",
       "\n",
       "   income  \n",
       "0  165665  \n",
       "1   59285  \n",
       "2   99568  \n",
       "3   42049  \n",
       "4   40374  "
      ]
     },
     "execution_count": 51,
     "metadata": {},
     "output_type": "execute_result"
    }
   ],
   "source": [
    "# Check the result\n",
    "customer.head()"
   ]
  },
  {
   "cell_type": "code",
   "execution_count": 52,
   "id": "475ceb2f",
   "metadata": {},
   "outputs": [
    {
     "name": "stdout",
     "output_type": "stream",
     "text": [
      "<class 'pandas.core.frame.DataFrame'>\n",
      "RangeIndex: 206209 entries, 0 to 206208\n",
      "Data columns (total 8 columns):\n",
      " #   Column          Non-Null Count   Dtype \n",
      "---  ------          --------------   ----- \n",
      " 0   user_id         206209 non-null  int64 \n",
      " 1   Gender          206209 non-null  object\n",
      " 2   STATE           206209 non-null  object\n",
      " 3   Age             206209 non-null  int64 \n",
      " 4   date_joined     206209 non-null  object\n",
      " 5   dependants      206209 non-null  int64 \n",
      " 6    family_status  206209 non-null  object\n",
      " 7   income          206209 non-null  int64 \n",
      "dtypes: int64(4), object(4)\n",
      "memory usage: 12.6+ MB\n"
     ]
    }
   ],
   "source": [
    "# Check for datatype of each column\n",
    "customer.info()"
   ]
  },
  {
   "cell_type": "markdown",
   "id": "e31a627f",
   "metadata": {},
   "source": [
    "#### The user_id column indicates the sequence of the customer; it shouldn't represent actual numeric values. I shall change the data type for this column first."
   ]
  },
  {
   "cell_type": "code",
   "execution_count": 53,
   "id": "23b1d07f",
   "metadata": {},
   "outputs": [],
   "source": [
    "customer['user_id'] = customer['user_id'].astype('str')"
   ]
  },
  {
   "cell_type": "code",
   "execution_count": 54,
   "id": "f8c07561",
   "metadata": {},
   "outputs": [
    {
     "data": {
      "text/plain": [
       "dtype('O')"
      ]
     },
     "execution_count": 54,
     "metadata": {},
     "output_type": "execute_result"
    }
   ],
   "source": [
    "customer['user_id'].dtype"
   ]
  },
  {
   "cell_type": "markdown",
   "id": "dfae33f1",
   "metadata": {},
   "source": [
    "#### The date_joined column is set as 'str' datatype, which is not usefull for our analysis, so I change it to datetime datatype"
   ]
  },
  {
   "cell_type": "code",
   "execution_count": 55,
   "id": "b3c31a5d",
   "metadata": {},
   "outputs": [],
   "source": [
    "customer['date_joined'] = pd.to_datetime(customer['date_joined'])"
   ]
  },
  {
   "cell_type": "code",
   "execution_count": 56,
   "id": "c2ee0db8",
   "metadata": {},
   "outputs": [
    {
     "name": "stdout",
     "output_type": "stream",
     "text": [
      "<class 'pandas.core.frame.DataFrame'>\n",
      "RangeIndex: 206209 entries, 0 to 206208\n",
      "Data columns (total 8 columns):\n",
      " #   Column          Non-Null Count   Dtype         \n",
      "---  ------          --------------   -----         \n",
      " 0   user_id         206209 non-null  object        \n",
      " 1   Gender          206209 non-null  object        \n",
      " 2   STATE           206209 non-null  object        \n",
      " 3   Age             206209 non-null  int64         \n",
      " 4   date_joined     206209 non-null  datetime64[ns]\n",
      " 5   dependants      206209 non-null  int64         \n",
      " 6    family_status  206209 non-null  object        \n",
      " 7   income          206209 non-null  int64         \n",
      "dtypes: datetime64[ns](1), int64(3), object(4)\n",
      "memory usage: 12.6+ MB\n"
     ]
    }
   ],
   "source": [
    "# Check out the result\n",
    "customer.info()"
   ]
  },
  {
   "cell_type": "markdown",
   "id": "729f174b",
   "metadata": {},
   "source": [
    "## 04. Complete the fundamental data quality and consistency checks"
   ]
  },
  {
   "cell_type": "code",
   "execution_count": 57,
   "id": "369a1963",
   "metadata": {},
   "outputs": [],
   "source": [
    "# Check for mixtyped data\n",
    "mixed_dtype = pd.api.types.is_object_dtype(customer)"
   ]
  },
  {
   "cell_type": "code",
   "execution_count": 58,
   "id": "06d130dc",
   "metadata": {},
   "outputs": [
    {
     "name": "stdout",
     "output_type": "stream",
     "text": [
      "Mixed Data Types: False\n"
     ]
    }
   ],
   "source": [
    "print(\"Mixed Data Types:\", mixed_dtype) "
   ]
  },
  {
   "cell_type": "markdown",
   "id": "8d4b82ae",
   "metadata": {},
   "source": [
    "#### The result shows that there is no column with mixtyped data"
   ]
  },
  {
   "cell_type": "code",
   "execution_count": 59,
   "id": "1a99170c",
   "metadata": {},
   "outputs": [
    {
     "data": {
      "text/plain": [
       "user_id           0\n",
       "Gender            0\n",
       "STATE             0\n",
       "Age               0\n",
       "date_joined       0\n",
       "dependants        0\n",
       " family_status    0\n",
       "income            0\n",
       "dtype: int64"
      ]
     },
     "execution_count": 59,
     "metadata": {},
     "output_type": "execute_result"
    }
   ],
   "source": [
    "# Check for missing values\n",
    "customer.isnull().sum()"
   ]
  },
  {
   "cell_type": "markdown",
   "id": "928f64d7",
   "metadata": {},
   "source": [
    "#### There is no missing value in the dataframe"
   ]
  },
  {
   "cell_type": "code",
   "execution_count": 60,
   "id": "3fd1bb2f",
   "metadata": {},
   "outputs": [],
   "source": [
    "# Check for duplicated values\n",
    "customer_dups = customer[customer.duplicated()]"
   ]
  },
  {
   "cell_type": "code",
   "execution_count": 61,
   "id": "4376c24e",
   "metadata": {},
   "outputs": [
    {
     "data": {
      "text/html": [
       "<div>\n",
       "<style scoped>\n",
       "    .dataframe tbody tr th:only-of-type {\n",
       "        vertical-align: middle;\n",
       "    }\n",
       "\n",
       "    .dataframe tbody tr th {\n",
       "        vertical-align: top;\n",
       "    }\n",
       "\n",
       "    .dataframe thead th {\n",
       "        text-align: right;\n",
       "    }\n",
       "</style>\n",
       "<table border=\"1\" class=\"dataframe\">\n",
       "  <thead>\n",
       "    <tr style=\"text-align: right;\">\n",
       "      <th></th>\n",
       "      <th>user_id</th>\n",
       "      <th>Gender</th>\n",
       "      <th>STATE</th>\n",
       "      <th>Age</th>\n",
       "      <th>date_joined</th>\n",
       "      <th>dependants</th>\n",
       "      <th>family_status</th>\n",
       "      <th>income</th>\n",
       "    </tr>\n",
       "  </thead>\n",
       "  <tbody>\n",
       "  </tbody>\n",
       "</table>\n",
       "</div>"
      ],
      "text/plain": [
       "Empty DataFrame\n",
       "Columns: [user_id, Gender, STATE, Age, date_joined, dependants,  family_status, income]\n",
       "Index: []"
      ]
     },
     "execution_count": 61,
     "metadata": {},
     "output_type": "execute_result"
    }
   ],
   "source": [
    "customer_dups"
   ]
  },
  {
   "cell_type": "markdown",
   "id": "dbcbfa9a",
   "metadata": {},
   "source": [
    "#### There is no duplicates found in the customer dataset"
   ]
  },
  {
   "cell_type": "code",
   "execution_count": 66,
   "id": "bec1da9c",
   "metadata": {},
   "outputs": [
    {
     "data": {
      "text/plain": [
       "(206209, 8)"
      ]
     },
     "execution_count": 66,
     "metadata": {},
     "output_type": "execute_result"
    }
   ],
   "source": [
    "# Check out the final observations in the customer dataset\n",
    "customer.shape"
   ]
  },
  {
   "cell_type": "markdown",
   "id": "9c40d0a9",
   "metadata": {},
   "source": [
    "## 05. Combine customer data with the rest of prepared Instacart data"
   ]
  },
  {
   "cell_type": "code",
   "execution_count": 63,
   "id": "c9480556",
   "metadata": {},
   "outputs": [],
   "source": [
    "#Import the grouped dataset from previous exercise\n",
    "ords_prods_merge = pd.read_pickle(os.path.join(path, '02 Data', 'Prepared Data', 'orders_products_merged_group.pkl'))"
   ]
  },
  {
   "cell_type": "code",
   "execution_count": 64,
   "id": "0cb60441",
   "metadata": {},
   "outputs": [
    {
     "data": {
      "text/plain": [
       "(32404854, 25)"
      ]
     },
     "execution_count": 64,
     "metadata": {},
     "output_type": "execute_result"
    }
   ],
   "source": [
    "# Check the shape of the ords_prods_merge dataset\n",
    "ords_prods_merge.shape"
   ]
  },
  {
   "cell_type": "code",
   "execution_count": 73,
   "id": "f9e75e3c",
   "metadata": {},
   "outputs": [
    {
     "data": {
      "text/html": [
       "<div>\n",
       "<style scoped>\n",
       "    .dataframe tbody tr th:only-of-type {\n",
       "        vertical-align: middle;\n",
       "    }\n",
       "\n",
       "    .dataframe tbody tr th {\n",
       "        vertical-align: top;\n",
       "    }\n",
       "\n",
       "    .dataframe thead th {\n",
       "        text-align: right;\n",
       "    }\n",
       "</style>\n",
       "<table border=\"1\" class=\"dataframe\">\n",
       "  <thead>\n",
       "    <tr style=\"text-align: right;\">\n",
       "      <th></th>\n",
       "      <th>order_id</th>\n",
       "      <th>user_id</th>\n",
       "      <th>order_number</th>\n",
       "      <th>orders_day_of_week</th>\n",
       "      <th>order_hour_of_day</th>\n",
       "      <th>days_since_last_order</th>\n",
       "      <th>first_order</th>\n",
       "      <th>product_id</th>\n",
       "      <th>add_to_cart_order</th>\n",
       "      <th>reordered</th>\n",
       "      <th>...</th>\n",
       "      <th>price_range_loc</th>\n",
       "      <th>busiest day</th>\n",
       "      <th>busiest days</th>\n",
       "      <th>busiest_period_of_day</th>\n",
       "      <th>max_order</th>\n",
       "      <th>loyalty_flag</th>\n",
       "      <th>avg_price</th>\n",
       "      <th>spender_flag</th>\n",
       "      <th>Customer_frequency</th>\n",
       "      <th>frequency_flag</th>\n",
       "    </tr>\n",
       "  </thead>\n",
       "  <tbody>\n",
       "    <tr>\n",
       "      <th>0</th>\n",
       "      <td>2539329</td>\n",
       "      <td>1</td>\n",
       "      <td>1</td>\n",
       "      <td>2</td>\n",
       "      <td>8</td>\n",
       "      <td>NaN</td>\n",
       "      <td>First Order</td>\n",
       "      <td>196</td>\n",
       "      <td>1</td>\n",
       "      <td>0</td>\n",
       "      <td>...</td>\n",
       "      <td>Mid-range product</td>\n",
       "      <td>Regularly busy</td>\n",
       "      <td>Regularly busy</td>\n",
       "      <td>Average orders</td>\n",
       "      <td>10</td>\n",
       "      <td>New customer</td>\n",
       "      <td>6.367797</td>\n",
       "      <td>Low spender</td>\n",
       "      <td>20.5</td>\n",
       "      <td>Non_frequent_customer</td>\n",
       "    </tr>\n",
       "    <tr>\n",
       "      <th>1</th>\n",
       "      <td>2398795</td>\n",
       "      <td>1</td>\n",
       "      <td>2</td>\n",
       "      <td>3</td>\n",
       "      <td>7</td>\n",
       "      <td>15.0</td>\n",
       "      <td>Repeat Customer</td>\n",
       "      <td>196</td>\n",
       "      <td>1</td>\n",
       "      <td>1</td>\n",
       "      <td>...</td>\n",
       "      <td>Mid-range product</td>\n",
       "      <td>Regularly busy</td>\n",
       "      <td>Regularly busy</td>\n",
       "      <td>Average orders</td>\n",
       "      <td>10</td>\n",
       "      <td>New customer</td>\n",
       "      <td>6.367797</td>\n",
       "      <td>Low spender</td>\n",
       "      <td>20.5</td>\n",
       "      <td>Non_frequent_customer</td>\n",
       "    </tr>\n",
       "    <tr>\n",
       "      <th>2</th>\n",
       "      <td>473747</td>\n",
       "      <td>1</td>\n",
       "      <td>3</td>\n",
       "      <td>3</td>\n",
       "      <td>12</td>\n",
       "      <td>21.0</td>\n",
       "      <td>Repeat Customer</td>\n",
       "      <td>196</td>\n",
       "      <td>1</td>\n",
       "      <td>1</td>\n",
       "      <td>...</td>\n",
       "      <td>Mid-range product</td>\n",
       "      <td>Regularly busy</td>\n",
       "      <td>Regularly busy</td>\n",
       "      <td>Most orders</td>\n",
       "      <td>10</td>\n",
       "      <td>New customer</td>\n",
       "      <td>6.367797</td>\n",
       "      <td>Low spender</td>\n",
       "      <td>20.5</td>\n",
       "      <td>Non_frequent_customer</td>\n",
       "    </tr>\n",
       "    <tr>\n",
       "      <th>3</th>\n",
       "      <td>2254736</td>\n",
       "      <td>1</td>\n",
       "      <td>4</td>\n",
       "      <td>4</td>\n",
       "      <td>7</td>\n",
       "      <td>29.0</td>\n",
       "      <td>Repeat Customer</td>\n",
       "      <td>196</td>\n",
       "      <td>1</td>\n",
       "      <td>1</td>\n",
       "      <td>...</td>\n",
       "      <td>Mid-range product</td>\n",
       "      <td>Least busy</td>\n",
       "      <td>Least busy</td>\n",
       "      <td>Average orders</td>\n",
       "      <td>10</td>\n",
       "      <td>New customer</td>\n",
       "      <td>6.367797</td>\n",
       "      <td>Low spender</td>\n",
       "      <td>20.5</td>\n",
       "      <td>Non_frequent_customer</td>\n",
       "    </tr>\n",
       "    <tr>\n",
       "      <th>4</th>\n",
       "      <td>431534</td>\n",
       "      <td>1</td>\n",
       "      <td>5</td>\n",
       "      <td>4</td>\n",
       "      <td>15</td>\n",
       "      <td>28.0</td>\n",
       "      <td>Repeat Customer</td>\n",
       "      <td>196</td>\n",
       "      <td>1</td>\n",
       "      <td>1</td>\n",
       "      <td>...</td>\n",
       "      <td>Mid-range product</td>\n",
       "      <td>Least busy</td>\n",
       "      <td>Least busy</td>\n",
       "      <td>Most orders</td>\n",
       "      <td>10</td>\n",
       "      <td>New customer</td>\n",
       "      <td>6.367797</td>\n",
       "      <td>Low spender</td>\n",
       "      <td>20.5</td>\n",
       "      <td>Non_frequent_customer</td>\n",
       "    </tr>\n",
       "  </tbody>\n",
       "</table>\n",
       "<p>5 rows × 25 columns</p>\n",
       "</div>"
      ],
      "text/plain": [
       "   order_id user_id  order_number  orders_day_of_week  order_hour_of_day  \\\n",
       "0   2539329       1             1                   2                  8   \n",
       "1   2398795       1             2                   3                  7   \n",
       "2    473747       1             3                   3                 12   \n",
       "3   2254736       1             4                   4                  7   \n",
       "4    431534       1             5                   4                 15   \n",
       "\n",
       "   days_since_last_order      first_order  product_id  add_to_cart_order  \\\n",
       "0                    NaN      First Order         196                  1   \n",
       "1                   15.0  Repeat Customer         196                  1   \n",
       "2                   21.0  Repeat Customer         196                  1   \n",
       "3                   29.0  Repeat Customer         196                  1   \n",
       "4                   28.0  Repeat Customer         196                  1   \n",
       "\n",
       "   reordered  ...    price_range_loc     busiest day    busiest days  \\\n",
       "0          0  ...  Mid-range product  Regularly busy  Regularly busy   \n",
       "1          1  ...  Mid-range product  Regularly busy  Regularly busy   \n",
       "2          1  ...  Mid-range product  Regularly busy  Regularly busy   \n",
       "3          1  ...  Mid-range product      Least busy      Least busy   \n",
       "4          1  ...  Mid-range product      Least busy      Least busy   \n",
       "\n",
       "   busiest_period_of_day max_order  loyalty_flag avg_price spender_flag  \\\n",
       "0         Average orders        10  New customer  6.367797  Low spender   \n",
       "1         Average orders        10  New customer  6.367797  Low spender   \n",
       "2            Most orders        10  New customer  6.367797  Low spender   \n",
       "3         Average orders        10  New customer  6.367797  Low spender   \n",
       "4            Most orders        10  New customer  6.367797  Low spender   \n",
       "\n",
       "  Customer_frequency         frequency_flag  \n",
       "0               20.5  Non_frequent_customer  \n",
       "1               20.5  Non_frequent_customer  \n",
       "2               20.5  Non_frequent_customer  \n",
       "3               20.5  Non_frequent_customer  \n",
       "4               20.5  Non_frequent_customer  \n",
       "\n",
       "[5 rows x 25 columns]"
      ]
     },
     "execution_count": 73,
     "metadata": {},
     "output_type": "execute_result"
    }
   ],
   "source": [
    "ords_prods_merge.head()"
   ]
  },
  {
   "cell_type": "markdown",
   "id": "492b2b58",
   "metadata": {},
   "source": [
    "#### Both datasets have the shared column \"user_id\". This should be a fully matching column; hence, we don't need to specify a type of join and inner join will be used in default. The resulting data set will only contain observations included in both input data sets"
   ]
  },
  {
   "cell_type": "code",
   "execution_count": 69,
   "id": "763e1b14",
   "metadata": {},
   "outputs": [
    {
     "data": {
      "text/plain": [
       "dtype('int64')"
      ]
     },
     "execution_count": 69,
     "metadata": {},
     "output_type": "execute_result"
    }
   ],
   "source": [
    "# Check the datatype of 'user_id' column from the ords_prods_merge\n",
    "ords_prods_merge['user_id'].dtype"
   ]
  },
  {
   "cell_type": "code",
   "execution_count": 70,
   "id": "1a21a6e4",
   "metadata": {},
   "outputs": [],
   "source": [
    "# Change the datatype of the user_id from ords_prods_merge to 'str' to match user_id column from customer\n",
    "ords_prods_merge['user_id'] = ords_prods_merge['user_id'].astype('str')"
   ]
  },
  {
   "cell_type": "code",
   "execution_count": 71,
   "id": "5e3b1148",
   "metadata": {},
   "outputs": [
    {
     "data": {
      "text/plain": [
       "dtype('O')"
      ]
     },
     "execution_count": 71,
     "metadata": {},
     "output_type": "execute_result"
    }
   ],
   "source": [
    "ords_prods_merge['user_id'].dtype"
   ]
  },
  {
   "cell_type": "code",
   "execution_count": 75,
   "id": "d6416c8e",
   "metadata": {},
   "outputs": [
    {
     "data": {
      "text/plain": [
       "Index(['order_id', 'user_id', 'order_number', 'orders_day_of_week',\n",
       "       'order_hour_of_day', 'days_since_last_order', 'first_order',\n",
       "       'product_id', 'add_to_cart_order', 'reordered', 'product_name',\n",
       "       'aisle_id', 'department_id', 'prices', '_merge', 'price_range_loc',\n",
       "       'busiest day', 'busiest days', 'busiest_period_of_day', 'max_order',\n",
       "       'loyalty_flag', 'avg_price', 'spender_flag', 'Customer_frequency',\n",
       "       'frequency_flag'],\n",
       "      dtype='object')"
      ]
     },
     "execution_count": 75,
     "metadata": {},
     "output_type": "execute_result"
    }
   ],
   "source": [
    "# Check for columns name of the ords_prods_merge\n",
    "ords_prods_merge.columns"
   ]
  },
  {
   "cell_type": "code",
   "execution_count": 76,
   "id": "b688aa14",
   "metadata": {},
   "outputs": [],
   "source": [
    "# Drop the _merge columns to prevent error\n",
    "ords_prods_merge = ords_prods_merge.drop(columns = ['_merge'])"
   ]
  },
  {
   "cell_type": "code",
   "execution_count": 77,
   "id": "75a81307",
   "metadata": {},
   "outputs": [
    {
     "data": {
      "text/plain": [
       "Index(['order_id', 'user_id', 'order_number', 'orders_day_of_week',\n",
       "       'order_hour_of_day', 'days_since_last_order', 'first_order',\n",
       "       'product_id', 'add_to_cart_order', 'reordered', 'product_name',\n",
       "       'aisle_id', 'department_id', 'prices', 'price_range_loc', 'busiest day',\n",
       "       'busiest days', 'busiest_period_of_day', 'max_order', 'loyalty_flag',\n",
       "       'avg_price', 'spender_flag', 'Customer_frequency', 'frequency_flag'],\n",
       "      dtype='object')"
      ]
     },
     "execution_count": 77,
     "metadata": {},
     "output_type": "execute_result"
    }
   ],
   "source": [
    "ords_prods_merge.columns"
   ]
  },
  {
   "cell_type": "code",
   "execution_count": 78,
   "id": "7b494ebc",
   "metadata": {},
   "outputs": [],
   "source": [
    "# Merge both datasets\n",
    "df_large = ords_prods_merge.merge(customer, on = 'user_id', indicator = True)"
   ]
  },
  {
   "cell_type": "code",
   "execution_count": 79,
   "id": "971a02ae",
   "metadata": {},
   "outputs": [
    {
     "data": {
      "text/html": [
       "<div>\n",
       "<style scoped>\n",
       "    .dataframe tbody tr th:only-of-type {\n",
       "        vertical-align: middle;\n",
       "    }\n",
       "\n",
       "    .dataframe tbody tr th {\n",
       "        vertical-align: top;\n",
       "    }\n",
       "\n",
       "    .dataframe thead th {\n",
       "        text-align: right;\n",
       "    }\n",
       "</style>\n",
       "<table border=\"1\" class=\"dataframe\">\n",
       "  <thead>\n",
       "    <tr style=\"text-align: right;\">\n",
       "      <th></th>\n",
       "      <th>order_id</th>\n",
       "      <th>user_id</th>\n",
       "      <th>order_number</th>\n",
       "      <th>orders_day_of_week</th>\n",
       "      <th>order_hour_of_day</th>\n",
       "      <th>days_since_last_order</th>\n",
       "      <th>first_order</th>\n",
       "      <th>product_id</th>\n",
       "      <th>add_to_cart_order</th>\n",
       "      <th>reordered</th>\n",
       "      <th>...</th>\n",
       "      <th>Customer_frequency</th>\n",
       "      <th>frequency_flag</th>\n",
       "      <th>Gender</th>\n",
       "      <th>STATE</th>\n",
       "      <th>Age</th>\n",
       "      <th>date_joined</th>\n",
       "      <th>dependants</th>\n",
       "      <th>family_status</th>\n",
       "      <th>income</th>\n",
       "      <th>_merge</th>\n",
       "    </tr>\n",
       "  </thead>\n",
       "  <tbody>\n",
       "    <tr>\n",
       "      <th>0</th>\n",
       "      <td>2539329</td>\n",
       "      <td>1</td>\n",
       "      <td>1</td>\n",
       "      <td>2</td>\n",
       "      <td>8</td>\n",
       "      <td>NaN</td>\n",
       "      <td>First Order</td>\n",
       "      <td>196</td>\n",
       "      <td>1</td>\n",
       "      <td>0</td>\n",
       "      <td>...</td>\n",
       "      <td>20.5</td>\n",
       "      <td>Non_frequent_customer</td>\n",
       "      <td>Female</td>\n",
       "      <td>Alabama</td>\n",
       "      <td>31</td>\n",
       "      <td>2019-02-17</td>\n",
       "      <td>3</td>\n",
       "      <td>married</td>\n",
       "      <td>40423</td>\n",
       "      <td>both</td>\n",
       "    </tr>\n",
       "    <tr>\n",
       "      <th>1</th>\n",
       "      <td>2398795</td>\n",
       "      <td>1</td>\n",
       "      <td>2</td>\n",
       "      <td>3</td>\n",
       "      <td>7</td>\n",
       "      <td>15.0</td>\n",
       "      <td>Repeat Customer</td>\n",
       "      <td>196</td>\n",
       "      <td>1</td>\n",
       "      <td>1</td>\n",
       "      <td>...</td>\n",
       "      <td>20.5</td>\n",
       "      <td>Non_frequent_customer</td>\n",
       "      <td>Female</td>\n",
       "      <td>Alabama</td>\n",
       "      <td>31</td>\n",
       "      <td>2019-02-17</td>\n",
       "      <td>3</td>\n",
       "      <td>married</td>\n",
       "      <td>40423</td>\n",
       "      <td>both</td>\n",
       "    </tr>\n",
       "    <tr>\n",
       "      <th>2</th>\n",
       "      <td>473747</td>\n",
       "      <td>1</td>\n",
       "      <td>3</td>\n",
       "      <td>3</td>\n",
       "      <td>12</td>\n",
       "      <td>21.0</td>\n",
       "      <td>Repeat Customer</td>\n",
       "      <td>196</td>\n",
       "      <td>1</td>\n",
       "      <td>1</td>\n",
       "      <td>...</td>\n",
       "      <td>20.5</td>\n",
       "      <td>Non_frequent_customer</td>\n",
       "      <td>Female</td>\n",
       "      <td>Alabama</td>\n",
       "      <td>31</td>\n",
       "      <td>2019-02-17</td>\n",
       "      <td>3</td>\n",
       "      <td>married</td>\n",
       "      <td>40423</td>\n",
       "      <td>both</td>\n",
       "    </tr>\n",
       "    <tr>\n",
       "      <th>3</th>\n",
       "      <td>2254736</td>\n",
       "      <td>1</td>\n",
       "      <td>4</td>\n",
       "      <td>4</td>\n",
       "      <td>7</td>\n",
       "      <td>29.0</td>\n",
       "      <td>Repeat Customer</td>\n",
       "      <td>196</td>\n",
       "      <td>1</td>\n",
       "      <td>1</td>\n",
       "      <td>...</td>\n",
       "      <td>20.5</td>\n",
       "      <td>Non_frequent_customer</td>\n",
       "      <td>Female</td>\n",
       "      <td>Alabama</td>\n",
       "      <td>31</td>\n",
       "      <td>2019-02-17</td>\n",
       "      <td>3</td>\n",
       "      <td>married</td>\n",
       "      <td>40423</td>\n",
       "      <td>both</td>\n",
       "    </tr>\n",
       "    <tr>\n",
       "      <th>4</th>\n",
       "      <td>431534</td>\n",
       "      <td>1</td>\n",
       "      <td>5</td>\n",
       "      <td>4</td>\n",
       "      <td>15</td>\n",
       "      <td>28.0</td>\n",
       "      <td>Repeat Customer</td>\n",
       "      <td>196</td>\n",
       "      <td>1</td>\n",
       "      <td>1</td>\n",
       "      <td>...</td>\n",
       "      <td>20.5</td>\n",
       "      <td>Non_frequent_customer</td>\n",
       "      <td>Female</td>\n",
       "      <td>Alabama</td>\n",
       "      <td>31</td>\n",
       "      <td>2019-02-17</td>\n",
       "      <td>3</td>\n",
       "      <td>married</td>\n",
       "      <td>40423</td>\n",
       "      <td>both</td>\n",
       "    </tr>\n",
       "  </tbody>\n",
       "</table>\n",
       "<p>5 rows × 32 columns</p>\n",
       "</div>"
      ],
      "text/plain": [
       "   order_id user_id  order_number  orders_day_of_week  order_hour_of_day  \\\n",
       "0   2539329       1             1                   2                  8   \n",
       "1   2398795       1             2                   3                  7   \n",
       "2    473747       1             3                   3                 12   \n",
       "3   2254736       1             4                   4                  7   \n",
       "4    431534       1             5                   4                 15   \n",
       "\n",
       "   days_since_last_order      first_order  product_id  add_to_cart_order  \\\n",
       "0                    NaN      First Order         196                  1   \n",
       "1                   15.0  Repeat Customer         196                  1   \n",
       "2                   21.0  Repeat Customer         196                  1   \n",
       "3                   29.0  Repeat Customer         196                  1   \n",
       "4                   28.0  Repeat Customer         196                  1   \n",
       "\n",
       "   reordered  ... Customer_frequency         frequency_flag  Gender    STATE  \\\n",
       "0          0  ...               20.5  Non_frequent_customer  Female  Alabama   \n",
       "1          1  ...               20.5  Non_frequent_customer  Female  Alabama   \n",
       "2          1  ...               20.5  Non_frequent_customer  Female  Alabama   \n",
       "3          1  ...               20.5  Non_frequent_customer  Female  Alabama   \n",
       "4          1  ...               20.5  Non_frequent_customer  Female  Alabama   \n",
       "\n",
       "  Age date_joined dependants  family_status  income _merge  \n",
       "0  31  2019-02-17          3        married   40423   both  \n",
       "1  31  2019-02-17          3        married   40423   both  \n",
       "2  31  2019-02-17          3        married   40423   both  \n",
       "3  31  2019-02-17          3        married   40423   both  \n",
       "4  31  2019-02-17          3        married   40423   both  \n",
       "\n",
       "[5 rows x 32 columns]"
      ]
     },
     "execution_count": 79,
     "metadata": {},
     "output_type": "execute_result"
    }
   ],
   "source": [
    "# Check out the result\n",
    "df_large.head()"
   ]
  },
  {
   "cell_type": "code",
   "execution_count": 80,
   "id": "30c8dcf5",
   "metadata": {},
   "outputs": [
    {
     "data": {
      "text/plain": [
       "Index(['order_id', 'user_id', 'order_number', 'orders_day_of_week',\n",
       "       'order_hour_of_day', 'days_since_last_order', 'first_order',\n",
       "       'product_id', 'add_to_cart_order', 'reordered', 'product_name',\n",
       "       'aisle_id', 'department_id', 'prices', 'price_range_loc', 'busiest day',\n",
       "       'busiest days', 'busiest_period_of_day', 'max_order', 'loyalty_flag',\n",
       "       'avg_price', 'spender_flag', 'Customer_frequency', 'frequency_flag',\n",
       "       'Gender', 'STATE', 'Age', 'date_joined', 'dependants', ' family_status',\n",
       "       'income', '_merge'],\n",
       "      dtype='object')"
      ]
     },
     "execution_count": 80,
     "metadata": {},
     "output_type": "execute_result"
    }
   ],
   "source": [
    "df_large.columns"
   ]
  },
  {
   "cell_type": "code",
   "execution_count": 81,
   "id": "c91e53fd",
   "metadata": {},
   "outputs": [
    {
     "data": {
      "text/plain": [
       "_merge\n",
       "both          32404854\n",
       "left_only            0\n",
       "right_only           0\n",
       "Name: count, dtype: int64"
      ]
     },
     "execution_count": 81,
     "metadata": {},
     "output_type": "execute_result"
    }
   ],
   "source": [
    "# Confirm the results of the merge using the merge flag\n",
    "df_large['_merge'].value_counts()"
   ]
  },
  {
   "cell_type": "markdown",
   "id": "67cd7c3b",
   "metadata": {},
   "source": [
    "#### The new dataframe has 32,404,859 observations. As mentioned, the result data set only shows observations included in both data set."
   ]
  },
  {
   "cell_type": "code",
   "execution_count": 82,
   "id": "d4273aba",
   "metadata": {},
   "outputs": [
    {
     "data": {
      "text/plain": [
       "(32404854, 32)"
      ]
     },
     "execution_count": 82,
     "metadata": {},
     "output_type": "execute_result"
    }
   ],
   "source": [
    "df_large.shape"
   ]
  },
  {
   "cell_type": "markdown",
   "id": "d5b3042d",
   "metadata": {},
   "source": [
    "## 06. Export this new dataframe as a pickle file"
   ]
  },
  {
   "cell_type": "code",
   "execution_count": 83,
   "id": "2789c366",
   "metadata": {},
   "outputs": [],
   "source": [
    "df_large.to_pickle(os.path.join(path, '02 Data','Prepared Data', 'orders_products_all.pkl'))"
   ]
  }
 ],
 "metadata": {
  "kernelspec": {
   "display_name": "Python 3 (ipykernel)",
   "language": "python",
   "name": "python3"
  },
  "language_info": {
   "codemirror_mode": {
    "name": "ipython",
    "version": 3
   },
   "file_extension": ".py",
   "mimetype": "text/x-python",
   "name": "python",
   "nbconvert_exporter": "python",
   "pygments_lexer": "ipython3",
   "version": "3.11.5"
  }
 },
 "nbformat": 4,
 "nbformat_minor": 5
}
